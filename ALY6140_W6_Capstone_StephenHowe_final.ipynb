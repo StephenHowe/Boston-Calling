{
 "cells": [
  {
   "cell_type": "markdown",
   "metadata": {},
   "source": [
    "# Boston Calling: An Analysis of 3-1-1 Non-Emergency Service Requests\n",
    "\n",
    "### ALY6140 Spring Q1-A 2019\n",
    "\n",
    "__Instructor Kamen Madjarov__\n",
    "\n",
    "__Stephen Howe__\n",
    "\n",
    "__18 May 2019__"
   ]
  },
  {
   "cell_type": "markdown",
   "metadata": {},
   "source": [
    "# Context and Background\n",
    "\n",
    "The City of Boston has long provided mechanisms for residents and visitors to report non-emergency issues and service requests. Launched in 2015, Bos:311 replaced the Mayor's 24 hour hotline and a mobile application, Citizen Connect (WBUR News, 2015). The City of Boston now provides to its residents and visitors [four main ways](https://www.cityofboston.gov/311/) to report non-emergency issues. Individuals can report issues such as potholes, noise complaints, broken street lights, and the like to the city for repair and response (City of Boston, 2015). This document is an analysis of the service requests made to the City of Boston.\n",
    "\n",
    "## Audience for Analysis\n",
    "\n",
    "As a resident of Boston's Leather District and as a regular user of the city's 3-1-1 service, I am interested in knowing what type of service requests the city receives and how the city is responding. Specifically, _I want to understand the trends that describe service requests submitted to the City of Boston and the factors that impact the timely resolution of these tickets._\n",
    "\n",
    "## Questions for Inquiry\n",
    "\n",
    "The type of questions that I want to answer with this data include:\n",
    "\n",
    "* How long does it take, on average, to close tickets?\n",
    "* Which districts have the most complaints?\n",
    "* What are the most common types of complaints?\n",
    "* What % of tickets are closed by their expected date?\n",
    "* Which departments receive the most requests?\n",
    "* What factors impact the creation of service requests?\n",
    "* What factors impact the timely resolution of service requests?\n",
    "* Can we predict if a ticket will be closed ontime?"
   ]
  },
  {
   "cell_type": "markdown",
   "metadata": {},
   "source": [
    "# Libraries\n",
    "To begin the analysis, we need to first load the required functions and libraries. The first code cell loads a set of functions written specifically for this analysis and that are hosted in the accompanying .py file. The second code cell loads common Python libraries. Finally, the third code cell sets a configuration setting so that plots display in line with the rest of the notebook."
   ]
  },
  {
   "cell_type": "code",
   "execution_count": 1,
   "metadata": {},
   "outputs": [],
   "source": [
    "# Import functions\n",
    "from ALY6140_StephenHowe_Functions_final import dt_conv, median_by_group, size_by_group, get_worksheet_names"
   ]
  },
  {
   "cell_type": "code",
   "execution_count": 2,
   "metadata": {},
   "outputs": [],
   "source": [
    "# Import libraries\n",
    "from datetime import datetime\n",
    "import numpy as np\n",
    "import pandas as pd\n",
    "import matplotlib.pyplot as plt\n",
    "import statsmodels.formula.api as smf\n",
    "from sklearn.tree import DecisionTreeClassifier \n",
    "from sklearn.model_selection import train_test_split \n",
    "from sklearn import metrics \n",
    "from sklearn.model_selection import GridSearchCV\n",
    "from sklearn.compose import ColumnTransformer\n",
    "from sklearn.pipeline import Pipeline\n",
    "from sklearn.impute import SimpleImputer\n",
    "from sklearn.preprocessing import OneHotEncoder\n",
    "from sklearn.linear_model import LogisticRegression\n",
    "from sklearn.ensemble import RandomForestClassifier\n",
    "import seaborn as sns"
   ]
  },
  {
   "cell_type": "code",
   "execution_count": 3,
   "metadata": {},
   "outputs": [],
   "source": [
    "# configuration setting to display plots inline in the notebook\n",
    "%matplotlib inline"
   ]
  },
  {
   "cell_type": "markdown",
   "metadata": {},
   "source": [
    "This next line of code prints the current time. A second timestamp appears at the end of the notebook and is used to calculate the run-time for the notebook."
   ]
  },
  {
   "cell_type": "code",
   "execution_count": 4,
   "metadata": {},
   "outputs": [
    {
     "data": {
      "text/plain": [
       "datetime.datetime(2019, 5, 17, 20, 5, 36, 294188)"
      ]
     },
     "execution_count": 4,
     "metadata": {},
     "output_type": "execute_result"
    }
   ],
   "source": [
    "start = datetime.now()  # print current time\n",
    "start"
   ]
  },
  {
   "cell_type": "markdown",
   "metadata": {},
   "source": [
    "# Data\n",
    "\n",
    "## Description of Data\n",
    "\n",
    "As part of Boston's [Open Data initiative](https://data.boston.gov), the city makes these 3-1-1 service requests available as a downloadable dataset. The [3-1-1 Service Requests](https://data.boston.gov/dataset/311-service-requests) dataset consists of approximately 1.5 million service requests from July 2011 through today and is updated daily. Please note that the data in this dataset starts before the City of Boston re-branded its non-emergency service requests intake system as Bos:311.\n",
    "\n",
    "## Accessing the Data\n",
    "\n",
    "For this analysis, I will import two different data sets. The main dataset, as described above, is a dataset of 3-1-1- service request tickets. The second dataset, also available from the same Boston open data site, is [demographic data for Boston's neighborhoods](https://data.boston.gov/dataset/neighborhood-demographics). This second dataset will be used to augment the primary analysis on service tickets.\n",
    "\n",
    "### 3-1-1 Service Request Tickets\n",
    "\n",
    "In the following code cells, I import the data from the Boston data site into a pandas dataframe. One column used for zipcodes is imported specifically as an object so that we don't lose the leading zeros and so that it can be used later as categorical data. The first and last few rows are displayed and the data type is confirmed to be a pandas dataframe.\n",
    "\n",
    "_n.b._ The filepaths to the data used in this notebook are URLs pointing to the Boston data site. I also provide filepaths pointing to the data files saved to the working directory. These second filepaths are commented out in the code and will not run. This was done because in the course of completing this project, Boston removed one of the data sources I was using (page no longer exists; 500 errors) and I had to find a replacement data source. I am supplying copies of the data only as backup--they are not needed to run this notebook unless Boston changes its URLs."
   ]
  },
  {
   "cell_type": "code",
   "execution_count": 5,
   "metadata": {},
   "outputs": [],
   "source": [
    "# Set file pointer\n",
    "# select one of the following sources: file or URL\n",
    "# filename is only needed if URL is inaccessible\n",
    "\n",
    "#data_path = \"311requests.csv\"  \n",
    "data_path = \"https://data.boston.gov/dataset/8048697b-ad64-4bfc-b090-ee00169f2323/resource/2968e2c0-d479-49ba-a884-4ef523ada3c0/download/tmpzsfb3fzw.csv\"\n",
    "\n",
    "# Get data\n",
    "# takes 3-4 minutes to fetch data if using URL; takes ~1 minute loading from file\n",
    "bos311 = pd.read_csv(filepath_or_buffer=data_path,\n",
    "                    header=0,\n",
    "                    dtype={'location_zipcode': object},\n",
    "                    low_memory=False)"
   ]
  },
  {
   "cell_type": "markdown",
   "metadata": {},
   "source": [
    "This next cell is not run. It was used to download the data retrieved from the Boston data website so work can be done offline with a copy of the data."
   ]
  },
  {
   "cell_type": "code",
   "execution_count": 6,
   "metadata": {},
   "outputs": [],
   "source": [
    "# NOT RUN\n",
    "# save data to .csv for backup and for working offline\n",
    "\n",
    "#bos311.to_csv(\"311requests.csv\")"
   ]
  },
  {
   "cell_type": "markdown",
   "metadata": {},
   "source": [
    "Let's inspect the Boston 3-1-1 data. This data set includes metadata about when a ticket was open and closed, its ontime status, a description of the ticket, and other attributes describing the location of the issue, along with how the ticket was issued to the city."
   ]
  },
  {
   "cell_type": "code",
   "execution_count": 7,
   "metadata": {},
   "outputs": [
    {
     "data": {
      "text/html": [
       "<div>\n",
       "<style scoped>\n",
       "    .dataframe tbody tr th:only-of-type {\n",
       "        vertical-align: middle;\n",
       "    }\n",
       "\n",
       "    .dataframe tbody tr th {\n",
       "        vertical-align: top;\n",
       "    }\n",
       "\n",
       "    .dataframe thead th {\n",
       "        text-align: right;\n",
       "    }\n",
       "</style>\n",
       "<table border=\"1\" class=\"dataframe\">\n",
       "  <thead>\n",
       "    <tr style=\"text-align: right;\">\n",
       "      <th></th>\n",
       "      <th>case_enquiry_id</th>\n",
       "      <th>open_dt</th>\n",
       "      <th>target_dt</th>\n",
       "      <th>closed_dt</th>\n",
       "      <th>ontime</th>\n",
       "      <th>case_status</th>\n",
       "      <th>closure_reason</th>\n",
       "      <th>case_title</th>\n",
       "      <th>subject</th>\n",
       "      <th>reason</th>\n",
       "      <th>...</th>\n",
       "      <th>police_district</th>\n",
       "      <th>neighborhood</th>\n",
       "      <th>neighborhood_services_district</th>\n",
       "      <th>ward</th>\n",
       "      <th>precinct</th>\n",
       "      <th>location_street_name</th>\n",
       "      <th>location_zipcode</th>\n",
       "      <th>latitude</th>\n",
       "      <th>longitude</th>\n",
       "      <th>source</th>\n",
       "    </tr>\n",
       "  </thead>\n",
       "  <tbody>\n",
       "    <tr>\n",
       "      <th>0</th>\n",
       "      <td>101000295613</td>\n",
       "      <td>2011-07-01 01:32:33</td>\n",
       "      <td>2011-07-15 01:32:32</td>\n",
       "      <td>2011-07-01 05:06:58</td>\n",
       "      <td>ONTIME</td>\n",
       "      <td>Closed</td>\n",
       "      <td>Case Closed Case Resolved replaced 100 amp fus...</td>\n",
       "      <td>Street Light Outages</td>\n",
       "      <td>Public Works Department</td>\n",
       "      <td>Street Lights</td>\n",
       "      <td>...</td>\n",
       "      <td>B3</td>\n",
       "      <td>Greater Mattapan</td>\n",
       "      <td>7</td>\n",
       "      <td>Ward 17</td>\n",
       "      <td>1714</td>\n",
       "      <td>INTERSECTION Groveland St &amp; River St</td>\n",
       "      <td>NaN</td>\n",
       "      <td>42.2715</td>\n",
       "      <td>-71.0772</td>\n",
       "      <td>Employee Generated</td>\n",
       "    </tr>\n",
       "    <tr>\n",
       "      <th>1</th>\n",
       "      <td>101000295614</td>\n",
       "      <td>2011-07-01 02:18:31</td>\n",
       "      <td>2011-07-05 02:18:31</td>\n",
       "      <td>2011-07-01 06:12:43</td>\n",
       "      <td>ONTIME</td>\n",
       "      <td>Closed</td>\n",
       "      <td>Case Closed Case Scheduled Items have been sch...</td>\n",
       "      <td>Schedule a Bulk Item Pickup</td>\n",
       "      <td>Public Works Department</td>\n",
       "      <td>Sanitation</td>\n",
       "      <td>...</td>\n",
       "      <td>E5</td>\n",
       "      <td>Roslindale</td>\n",
       "      <td>10</td>\n",
       "      <td>Ward 20</td>\n",
       "      <td>2008</td>\n",
       "      <td>39 Lorraine St</td>\n",
       "      <td>02131</td>\n",
       "      <td>42.2839</td>\n",
       "      <td>-71.1447</td>\n",
       "      <td>Self Service</td>\n",
       "    </tr>\n",
       "    <tr>\n",
       "      <th>2</th>\n",
       "      <td>101000295620</td>\n",
       "      <td>2011-07-01 06:24:38</td>\n",
       "      <td>2011-07-15 06:24:38</td>\n",
       "      <td>2011-08-23 10:33:03</td>\n",
       "      <td>OVERDUE</td>\n",
       "      <td>Closed</td>\n",
       "      <td>Case Closed Case Resolved Job Completed.</td>\n",
       "      <td>Street Light Outages</td>\n",
       "      <td>Public Works Department</td>\n",
       "      <td>Street Lights</td>\n",
       "      <td>...</td>\n",
       "      <td>E13</td>\n",
       "      <td>Roxbury</td>\n",
       "      <td>13</td>\n",
       "      <td>Ward 11</td>\n",
       "      <td>1103</td>\n",
       "      <td>INTERSECTION Bragdon St &amp; Washington St</td>\n",
       "      <td>NaN</td>\n",
       "      <td>42.3173</td>\n",
       "      <td>-71.0968</td>\n",
       "      <td>Constituent Call</td>\n",
       "    </tr>\n",
       "    <tr>\n",
       "      <th>3</th>\n",
       "      <td>101000295624</td>\n",
       "      <td>2011-07-01 06:50:25</td>\n",
       "      <td>NaN</td>\n",
       "      <td>2011-07-01 06:50:29</td>\n",
       "      <td>ONTIME</td>\n",
       "      <td>Closed</td>\n",
       "      <td>Case Closed Internal Case</td>\n",
       "      <td>Highway Maintenance</td>\n",
       "      <td>Public Works Department</td>\n",
       "      <td>Highway Maintenance</td>\n",
       "      <td>...</td>\n",
       "      <td>C11</td>\n",
       "      <td>Dorchester</td>\n",
       "      <td>7</td>\n",
       "      <td>Ward 13</td>\n",
       "      <td>1309</td>\n",
       "      <td>1053 Dorchester Ave</td>\n",
       "      <td>02125</td>\n",
       "      <td>42.3594</td>\n",
       "      <td>-71.0587</td>\n",
       "      <td>Employee Generated</td>\n",
       "    </tr>\n",
       "    <tr>\n",
       "      <th>4</th>\n",
       "      <td>101000295625</td>\n",
       "      <td>2011-07-01 06:55:10</td>\n",
       "      <td>2011-07-05 06:55:10</td>\n",
       "      <td>2011-07-05 09:42:04</td>\n",
       "      <td>OVERDUE</td>\n",
       "      <td>Closed</td>\n",
       "      <td>Case Closed Case Resolved  Delivered on 7/5.  ...</td>\n",
       "      <td>Sticker Request</td>\n",
       "      <td>Public Works Department</td>\n",
       "      <td>Recycling</td>\n",
       "      <td>...</td>\n",
       "      <td>C6</td>\n",
       "      <td>South Boston / South Boston Waterfront</td>\n",
       "      <td>5</td>\n",
       "      <td>Ward 7</td>\n",
       "      <td>0701</td>\n",
       "      <td>392 K St</td>\n",
       "      <td>02127</td>\n",
       "      <td>42.3305</td>\n",
       "      <td>-71.0371</td>\n",
       "      <td>Self Service</td>\n",
       "    </tr>\n",
       "  </tbody>\n",
       "</table>\n",
       "<p>5 rows × 29 columns</p>\n",
       "</div>"
      ],
      "text/plain": [
       "   case_enquiry_id              open_dt            target_dt  \\\n",
       "0     101000295613  2011-07-01 01:32:33  2011-07-15 01:32:32   \n",
       "1     101000295614  2011-07-01 02:18:31  2011-07-05 02:18:31   \n",
       "2     101000295620  2011-07-01 06:24:38  2011-07-15 06:24:38   \n",
       "3     101000295624  2011-07-01 06:50:25                  NaN   \n",
       "4     101000295625  2011-07-01 06:55:10  2011-07-05 06:55:10   \n",
       "\n",
       "             closed_dt   ontime case_status  \\\n",
       "0  2011-07-01 05:06:58   ONTIME      Closed   \n",
       "1  2011-07-01 06:12:43   ONTIME      Closed   \n",
       "2  2011-08-23 10:33:03  OVERDUE      Closed   \n",
       "3  2011-07-01 06:50:29   ONTIME      Closed   \n",
       "4  2011-07-05 09:42:04  OVERDUE      Closed   \n",
       "\n",
       "                                      closure_reason  \\\n",
       "0  Case Closed Case Resolved replaced 100 amp fus...   \n",
       "1  Case Closed Case Scheduled Items have been sch...   \n",
       "2          Case Closed Case Resolved Job Completed.    \n",
       "3                         Case Closed Internal Case    \n",
       "4  Case Closed Case Resolved  Delivered on 7/5.  ...   \n",
       "\n",
       "                    case_title                  subject               reason  \\\n",
       "0         Street Light Outages  Public Works Department        Street Lights   \n",
       "1  Schedule a Bulk Item Pickup  Public Works Department           Sanitation   \n",
       "2         Street Light Outages  Public Works Department        Street Lights   \n",
       "3          Highway Maintenance  Public Works Department  Highway Maintenance   \n",
       "4              Sticker Request  Public Works Department            Recycling   \n",
       "\n",
       "          ...         police_district                            neighborhood  \\\n",
       "0         ...                      B3                        Greater Mattapan   \n",
       "1         ...                      E5                              Roslindale   \n",
       "2         ...                     E13                                 Roxbury   \n",
       "3         ...                     C11                              Dorchester   \n",
       "4         ...                      C6  South Boston / South Boston Waterfront   \n",
       "\n",
       "  neighborhood_services_district     ward precinct  \\\n",
       "0                              7  Ward 17     1714   \n",
       "1                             10  Ward 20     2008   \n",
       "2                             13  Ward 11     1103   \n",
       "3                              7  Ward 13     1309   \n",
       "4                              5   Ward 7     0701   \n",
       "\n",
       "                      location_street_name location_zipcode latitude  \\\n",
       "0     INTERSECTION Groveland St & River St              NaN  42.2715   \n",
       "1                           39 Lorraine St            02131  42.2839   \n",
       "2  INTERSECTION Bragdon St & Washington St              NaN  42.3173   \n",
       "3                      1053 Dorchester Ave            02125  42.3594   \n",
       "4                                 392 K St            02127  42.3305   \n",
       "\n",
       "  longitude              source  \n",
       "0  -71.0772  Employee Generated  \n",
       "1  -71.1447        Self Service  \n",
       "2  -71.0968    Constituent Call  \n",
       "3  -71.0587  Employee Generated  \n",
       "4  -71.0371        Self Service  \n",
       "\n",
       "[5 rows x 29 columns]"
      ]
     },
     "execution_count": 7,
     "metadata": {},
     "output_type": "execute_result"
    }
   ],
   "source": [
    "bos311.head()  # inspect first few rows of data"
   ]
  },
  {
   "cell_type": "code",
   "execution_count": 8,
   "metadata": {},
   "outputs": [
    {
     "data": {
      "text/html": [
       "<div>\n",
       "<style scoped>\n",
       "    .dataframe tbody tr th:only-of-type {\n",
       "        vertical-align: middle;\n",
       "    }\n",
       "\n",
       "    .dataframe tbody tr th {\n",
       "        vertical-align: top;\n",
       "    }\n",
       "\n",
       "    .dataframe thead th {\n",
       "        text-align: right;\n",
       "    }\n",
       "</style>\n",
       "<table border=\"1\" class=\"dataframe\">\n",
       "  <thead>\n",
       "    <tr style=\"text-align: right;\">\n",
       "      <th></th>\n",
       "      <th>case_enquiry_id</th>\n",
       "      <th>open_dt</th>\n",
       "      <th>target_dt</th>\n",
       "      <th>closed_dt</th>\n",
       "      <th>ontime</th>\n",
       "      <th>case_status</th>\n",
       "      <th>closure_reason</th>\n",
       "      <th>case_title</th>\n",
       "      <th>subject</th>\n",
       "      <th>reason</th>\n",
       "      <th>...</th>\n",
       "      <th>police_district</th>\n",
       "      <th>neighborhood</th>\n",
       "      <th>neighborhood_services_district</th>\n",
       "      <th>ward</th>\n",
       "      <th>precinct</th>\n",
       "      <th>location_street_name</th>\n",
       "      <th>location_zipcode</th>\n",
       "      <th>latitude</th>\n",
       "      <th>longitude</th>\n",
       "      <th>source</th>\n",
       "    </tr>\n",
       "  </thead>\n",
       "  <tbody>\n",
       "    <tr>\n",
       "      <th>1502046</th>\n",
       "      <td>101002897116</td>\n",
       "      <td>2019-05-03 22:54:07</td>\n",
       "      <td>2019-05-09 08:30:00</td>\n",
       "      <td>NaN</td>\n",
       "      <td>ONTIME</td>\n",
       "      <td>Open</td>\n",
       "      <td></td>\n",
       "      <td>Poor Conditions of Property</td>\n",
       "      <td>Public Works Department</td>\n",
       "      <td>Code Enforcement</td>\n",
       "      <td>...</td>\n",
       "      <td>B3</td>\n",
       "      <td>Dorchester</td>\n",
       "      <td>9</td>\n",
       "      <td>Ward 17</td>\n",
       "      <td>1703</td>\n",
       "      <td>35 Dunlap St</td>\n",
       "      <td>02124</td>\n",
       "      <td>42.2927</td>\n",
       "      <td>-71.0741</td>\n",
       "      <td>Citizens Connect App</td>\n",
       "    </tr>\n",
       "    <tr>\n",
       "      <th>1502047</th>\n",
       "      <td>101002897120</td>\n",
       "      <td>2019-05-03 23:21:39</td>\n",
       "      <td>NaN</td>\n",
       "      <td>NaN</td>\n",
       "      <td>ONTIME</td>\n",
       "      <td>Open</td>\n",
       "      <td></td>\n",
       "      <td>Schedule Bulk Item Pickup</td>\n",
       "      <td>Public Works Department</td>\n",
       "      <td>Sanitation</td>\n",
       "      <td>...</td>\n",
       "      <td>E5</td>\n",
       "      <td>Roslindale</td>\n",
       "      <td>10</td>\n",
       "      <td>Ward 18</td>\n",
       "      <td>1810</td>\n",
       "      <td>16 Rawston Rd</td>\n",
       "      <td>02131</td>\n",
       "      <td>42.2778</td>\n",
       "      <td>-71.1294</td>\n",
       "      <td>Self Service</td>\n",
       "    </tr>\n",
       "    <tr>\n",
       "      <th>1502048</th>\n",
       "      <td>101002897121</td>\n",
       "      <td>2019-05-03 23:25:16</td>\n",
       "      <td>2019-05-07 08:30:00</td>\n",
       "      <td>NaN</td>\n",
       "      <td>ONTIME</td>\n",
       "      <td>Open</td>\n",
       "      <td></td>\n",
       "      <td>Parking Enforcement</td>\n",
       "      <td>Transportation - Traffic Division</td>\n",
       "      <td>Enforcement &amp; Abandoned Vehicles</td>\n",
       "      <td>...</td>\n",
       "      <td>C6</td>\n",
       "      <td>South Boston / South Boston Waterfront</td>\n",
       "      <td>5</td>\n",
       "      <td>6</td>\n",
       "      <td>0607</td>\n",
       "      <td>INTERSECTION O St &amp; E First St</td>\n",
       "      <td>NaN</td>\n",
       "      <td>42.3594</td>\n",
       "      <td>-71.0587</td>\n",
       "      <td>Citizens Connect App</td>\n",
       "    </tr>\n",
       "    <tr>\n",
       "      <th>1502049</th>\n",
       "      <td>101002897123</td>\n",
       "      <td>2019-05-03 23:36:20</td>\n",
       "      <td>2019-05-07 08:30:00</td>\n",
       "      <td>NaN</td>\n",
       "      <td>ONTIME</td>\n",
       "      <td>Open</td>\n",
       "      <td></td>\n",
       "      <td>Parking Enforcement</td>\n",
       "      <td>Transportation - Traffic Division</td>\n",
       "      <td>Enforcement &amp; Abandoned Vehicles</td>\n",
       "      <td>...</td>\n",
       "      <td>A1</td>\n",
       "      <td>Boston</td>\n",
       "      <td>4</td>\n",
       "      <td>03</td>\n",
       "      <td>0308</td>\n",
       "      <td>31-39 Stuart St</td>\n",
       "      <td>02116</td>\n",
       "      <td>42.3513</td>\n",
       "      <td>-71.0638</td>\n",
       "      <td>Citizens Connect App</td>\n",
       "    </tr>\n",
       "    <tr>\n",
       "      <th>1502050</th>\n",
       "      <td>101002897125</td>\n",
       "      <td>2019-05-03 23:58:53</td>\n",
       "      <td>2019-05-07 08:30:00</td>\n",
       "      <td>NaN</td>\n",
       "      <td>ONTIME</td>\n",
       "      <td>Open</td>\n",
       "      <td></td>\n",
       "      <td>Parking Enforcement</td>\n",
       "      <td>Transportation - Traffic Division</td>\n",
       "      <td>Enforcement &amp; Abandoned Vehicles</td>\n",
       "      <td>...</td>\n",
       "      <td>D14</td>\n",
       "      <td>Allston / Brighton</td>\n",
       "      <td>15</td>\n",
       "      <td>Ward 21</td>\n",
       "      <td>2114</td>\n",
       "      <td>41 Strathmore Rd</td>\n",
       "      <td>02135</td>\n",
       "      <td>42.3374</td>\n",
       "      <td>-71.1471</td>\n",
       "      <td>Citizens Connect App</td>\n",
       "    </tr>\n",
       "  </tbody>\n",
       "</table>\n",
       "<p>5 rows × 29 columns</p>\n",
       "</div>"
      ],
      "text/plain": [
       "         case_enquiry_id              open_dt            target_dt closed_dt  \\\n",
       "1502046     101002897116  2019-05-03 22:54:07  2019-05-09 08:30:00       NaN   \n",
       "1502047     101002897120  2019-05-03 23:21:39                  NaN       NaN   \n",
       "1502048     101002897121  2019-05-03 23:25:16  2019-05-07 08:30:00       NaN   \n",
       "1502049     101002897123  2019-05-03 23:36:20  2019-05-07 08:30:00       NaN   \n",
       "1502050     101002897125  2019-05-03 23:58:53  2019-05-07 08:30:00       NaN   \n",
       "\n",
       "         ontime case_status closure_reason                   case_title  \\\n",
       "1502046  ONTIME        Open                 Poor Conditions of Property   \n",
       "1502047  ONTIME        Open                   Schedule Bulk Item Pickup   \n",
       "1502048  ONTIME        Open                         Parking Enforcement   \n",
       "1502049  ONTIME        Open                         Parking Enforcement   \n",
       "1502050  ONTIME        Open                         Parking Enforcement   \n",
       "\n",
       "                                   subject                            reason  \\\n",
       "1502046            Public Works Department                  Code Enforcement   \n",
       "1502047            Public Works Department                        Sanitation   \n",
       "1502048  Transportation - Traffic Division  Enforcement & Abandoned Vehicles   \n",
       "1502049  Transportation - Traffic Division  Enforcement & Abandoned Vehicles   \n",
       "1502050  Transportation - Traffic Division  Enforcement & Abandoned Vehicles   \n",
       "\n",
       "                 ...          police_district  \\\n",
       "1502046          ...                       B3   \n",
       "1502047          ...                       E5   \n",
       "1502048          ...                       C6   \n",
       "1502049          ...                       A1   \n",
       "1502050          ...                      D14   \n",
       "\n",
       "                                   neighborhood  \\\n",
       "1502046                              Dorchester   \n",
       "1502047                              Roslindale   \n",
       "1502048  South Boston / South Boston Waterfront   \n",
       "1502049                                  Boston   \n",
       "1502050                      Allston / Brighton   \n",
       "\n",
       "        neighborhood_services_district     ward precinct  \\\n",
       "1502046                              9  Ward 17     1703   \n",
       "1502047                             10  Ward 18     1810   \n",
       "1502048                              5        6     0607   \n",
       "1502049                              4       03     0308   \n",
       "1502050                             15  Ward 21     2114   \n",
       "\n",
       "                   location_street_name location_zipcode latitude longitude  \\\n",
       "1502046                    35 Dunlap St            02124  42.2927  -71.0741   \n",
       "1502047                   16 Rawston Rd            02131  42.2778  -71.1294   \n",
       "1502048  INTERSECTION O St & E First St              NaN  42.3594  -71.0587   \n",
       "1502049                 31-39 Stuart St            02116  42.3513  -71.0638   \n",
       "1502050                41 Strathmore Rd            02135  42.3374  -71.1471   \n",
       "\n",
       "                       source  \n",
       "1502046  Citizens Connect App  \n",
       "1502047          Self Service  \n",
       "1502048  Citizens Connect App  \n",
       "1502049  Citizens Connect App  \n",
       "1502050  Citizens Connect App  \n",
       "\n",
       "[5 rows x 29 columns]"
      ]
     },
     "execution_count": 8,
     "metadata": {},
     "output_type": "execute_result"
    }
   ],
   "source": [
    "bos311.tail(5)  # inspect last few rows of data"
   ]
  },
  {
   "cell_type": "markdown",
   "metadata": {},
   "source": [
    "Confirm the datatype of the imported data:"
   ]
  },
  {
   "cell_type": "code",
   "execution_count": 9,
   "metadata": {},
   "outputs": [
    {
     "data": {
      "text/plain": [
       "pandas.core.frame.DataFrame"
      ]
     },
     "execution_count": 9,
     "metadata": {},
     "output_type": "execute_result"
    }
   ],
   "source": [
    "type(bos311)  # pandas dataframe"
   ]
  },
  {
   "cell_type": "markdown",
   "metadata": {},
   "source": [
    "### Boston Demographic Data\n",
    "\n",
    "With the 3-1-1 data loaded, I can now load the neighborhood demographic data. Up until May 13, 2019, Boston used to provide demographic data for all neighborhoods in a simple .csv. Each demographic segment (race, age, income, etc.) was separated into its own .csv file. Now, Boston provides all the demographic consolidated into a single Excel file with each neighborhood's data on its own worksheet. Organizing the file this way makes it more human-readable but there are more steps involved to extract the data for our purposes. For now, I will read the file from the Boston data site and display the worksheet names contained in the Excel file. Later on in this analysis, I will extract the specific demographic data we need. The code cell below uses a bespoke function that reads an Excel file and returns the list of worksheet names in a dataframe."
   ]
  },
  {
   "cell_type": "code",
   "execution_count": 10,
   "metadata": {},
   "outputs": [],
   "source": [
    "# set file pointer\n",
    "# select URL or filename\n",
    "# filename is only needed if URL is inaccessible\n",
    "\n",
    "data_path2 = \"https://data.boston.gov/dataset/8202abf2-8434-4934-959b-94643c7dac18/resource/7154cc09-55c4-4acd-99a5-3a233d11e699/download/neighborhoodsummaryclean_1950-2010.xlsx\"\n",
    "#data_path2 = \"neighborhoodsummaryclean_1950-2010.xlsx\""
   ]
  },
  {
   "cell_type": "code",
   "execution_count": 11,
   "metadata": {},
   "outputs": [
    {
     "data": {
      "text/plain": [
       "['Allston',\n",
       " 'Back Bay',\n",
       " 'Beacon Hill',\n",
       " 'Brighton',\n",
       " 'Charlestown',\n",
       " 'Dorchester',\n",
       " 'Downtown',\n",
       " 'East Boston',\n",
       " 'Fenway',\n",
       " 'Harbor Islands',\n",
       " 'Hyde Park',\n",
       " 'Jamaica Plain',\n",
       " 'Longwood Medical Area',\n",
       " 'Mattapan',\n",
       " 'Mission Hill ',\n",
       " 'North End',\n",
       " 'Roslindale',\n",
       " 'Roxbury',\n",
       " 'South Boston Waterfront',\n",
       " 'South Boston',\n",
       " 'South End',\n",
       " 'West End',\n",
       " 'West Roxbury']"
      ]
     },
     "execution_count": 11,
     "metadata": {},
     "output_type": "execute_result"
    }
   ],
   "source": [
    "get_worksheet_names(data_path2) # Display worksheet names"
   ]
  },
  {
   "cell_type": "markdown",
   "metadata": {},
   "source": [
    "# Data Clean-Up\n",
    "\n",
    "In this section, I will do some initial clean-up of the data (e.g. convert strings to timedate) as well as create new, derivative columns in the data set that will be used later on in the analysis. For example, I will calculate the duration it took to resolve a ticket and transform that `timedelta` to a `float` so that it can be used in calculations and plotting.\n",
    "\n",
    "## String to Datetime Conversion\n",
    "A quick glance at the imported data types show that additional clean-up work is needed. For example, the date fields (`open_dt`, `target_dt`, and `closed_dt`) are stored as strings. We can do this conversion by calling one of the customized functions contained in the imported Python file."
   ]
  },
  {
   "cell_type": "code",
   "execution_count": 12,
   "metadata": {},
   "outputs": [
    {
     "data": {
      "text/plain": [
       "case_enquiry_id                     int64\n",
       "open_dt                            object\n",
       "target_dt                          object\n",
       "closed_dt                          object\n",
       "ontime                             object\n",
       "case_status                        object\n",
       "closure_reason                     object\n",
       "case_title                         object\n",
       "subject                            object\n",
       "reason                             object\n",
       "type                               object\n",
       "queue                              object\n",
       "department                         object\n",
       "submittedphoto                     object\n",
       "closedphoto                        object\n",
       "location                           object\n",
       "fire_district                      object\n",
       "pwd_district                       object\n",
       "city_council_district              object\n",
       "police_district                    object\n",
       "neighborhood                       object\n",
       "neighborhood_services_district     object\n",
       "ward                               object\n",
       "precinct                           object\n",
       "location_street_name               object\n",
       "location_zipcode                   object\n",
       "latitude                          float64\n",
       "longitude                         float64\n",
       "source                             object\n",
       "dtype: object"
      ]
     },
     "execution_count": 12,
     "metadata": {},
     "output_type": "execute_result"
    }
   ],
   "source": [
    "bos311.dtypes"
   ]
  },
  {
   "cell_type": "code",
   "execution_count": 13,
   "metadata": {},
   "outputs": [
    {
     "data": {
      "text/plain": [
       "case_enquiry_id                            int64\n",
       "open_dt                           datetime64[ns]\n",
       "target_dt                         datetime64[ns]\n",
       "closed_dt                         datetime64[ns]\n",
       "ontime                                    object\n",
       "case_status                               object\n",
       "closure_reason                            object\n",
       "case_title                                object\n",
       "subject                                   object\n",
       "reason                                    object\n",
       "type                                      object\n",
       "queue                                     object\n",
       "department                                object\n",
       "submittedphoto                            object\n",
       "closedphoto                               object\n",
       "location                                  object\n",
       "fire_district                             object\n",
       "pwd_district                              object\n",
       "city_council_district                     object\n",
       "police_district                           object\n",
       "neighborhood                              object\n",
       "neighborhood_services_district            object\n",
       "ward                                      object\n",
       "precinct                                  object\n",
       "location_street_name                      object\n",
       "location_zipcode                          object\n",
       "latitude                                 float64\n",
       "longitude                                float64\n",
       "source                                    object\n",
       "dtype: object"
      ]
     },
     "execution_count": 13,
     "metadata": {},
     "output_type": "execute_result"
    }
   ],
   "source": [
    "# Convert date columns to datetime from string\n",
    "dt_conv(bos311, 'open_dt')\n",
    "dt_conv(bos311, 'target_dt')\n",
    "dt_conv(bos311, 'closed_dt')\n",
    "\n",
    "bos311.dtypes  # confirm datatype conversion"
   ]
  },
  {
   "cell_type": "markdown",
   "metadata": {},
   "source": [
    "## New Columns\n",
    "\n",
    "For the analysis, I need some new variables that I can derive from the orignal data. For example, I have open and closed dates for service tickets, but it would be useful to have the actual duration for which a ticket was open. This can be done by creating a new column that calculates the duration between these two dates. This column will be named `duration`."
   ]
  },
  {
   "cell_type": "code",
   "execution_count": 14,
   "metadata": {},
   "outputs": [
    {
     "data": {
      "text/plain": [
       "0    0 days 03:34:25\n",
       "1    0 days 03:54:12\n",
       "2   53 days 04:08:25\n",
       "3    0 days 00:00:04\n",
       "4    4 days 02:46:54\n",
       "5    0 days 00:09:13\n",
       "6    0 days 00:00:40\n",
       "7    0 days 00:00:19\n",
       "8    0 days 00:00:28\n",
       "9                NaT\n",
       "Name: duration, dtype: timedelta64[ns]"
      ]
     },
     "execution_count": 14,
     "metadata": {},
     "output_type": "execute_result"
    }
   ],
   "source": [
    "# Create time delta for resolution duration\n",
    "bos311['duration'] = bos311['closed_dt'] - bos311['open_dt']\n",
    "bos311['duration'].head(10)"
   ]
  },
  {
   "cell_type": "markdown",
   "metadata": {},
   "source": [
    "The column created above is of the dtype `timedelta64[ns]`. This data type is convenient for displaying the time but it is not a format that is easily consumable by matplotlib. Below, I create yet a another column that contains the resolution duration in hours as a float. Finding the appropriate unit of time is not an obvious choice. Some tickets are closed in seconds while others take months and years. I am choosing hours because it most closely fits with people's expectations of an appropriate response."
   ]
  },
  {
   "cell_type": "code",
   "execution_count": 15,
   "metadata": {},
   "outputs": [
    {
     "data": {
      "text/plain": [
       "0       3.573611\n",
       "1       3.903333\n",
       "2    1276.140278\n",
       "3       0.001111\n",
       "4      98.781667\n",
       "5       0.153611\n",
       "6       0.011111\n",
       "7       0.005278\n",
       "8       0.007778\n",
       "9            NaN\n",
       "Name: duration_hours, dtype: float64"
      ]
     },
     "execution_count": 15,
     "metadata": {},
     "output_type": "execute_result"
    }
   ],
   "source": [
    "# convert timedelta to hours as float\n",
    "bos311['duration_hours'] = bos311['duration'].apply(lambda x: float((x.seconds/3600)+(x.days *24)))\n",
    "bos311['duration_hours'].head(10)"
   ]
  },
  {
   "cell_type": "markdown",
   "metadata": {},
   "source": [
    "There are additional data conversions and derivatives that I will need to create, but these actions will be executed later on in the notebook in the context of a specific question I am trying to answer."
   ]
  },
  {
   "cell_type": "markdown",
   "metadata": {},
   "source": [
    "# Descriptive Analytics\n",
    "\n",
    "With the data loaded and some initial data-cleansing complete, I can now describe the data in order to answer some of the questions posed at the beginning of this notebook. I will start with what I have labeled duration, or, the time it took from when a ticket was opened to the time it was closed."
   ]
  },
  {
   "cell_type": "markdown",
   "metadata": {},
   "source": [
    "## Resolution Duration\n",
    "\n",
    "Let's begin by extracting the resolution duration. This can be done by selecting those tickets that have been marked as 'Closed' by the City and getting the duration in hours calculated in the clean-up section."
   ]
  },
  {
   "cell_type": "code",
   "execution_count": 16,
   "metadata": {},
   "outputs": [
    {
     "data": {
      "text/plain": [
       "0       3.573611\n",
       "1       3.903333\n",
       "2    1276.140278\n",
       "3       0.001111\n",
       "4      98.781667\n",
       "Name: duration_hours, dtype: float64"
      ]
     },
     "execution_count": 16,
     "metadata": {},
     "output_type": "execute_result"
    }
   ],
   "source": [
    "resolution_time = bos311.loc[bos311['case_status']=='Closed', 'duration_hours']\n",
    "resolution_time.head(5)"
   ]
  },
  {
   "cell_type": "markdown",
   "metadata": {},
   "source": [
    "Executing a quick statistical description on the duration time reveals a hugely variable set of times. The resolution duration ranges from seconds to years!!"
   ]
  },
  {
   "cell_type": "code",
   "execution_count": 17,
   "metadata": {},
   "outputs": [
    {
     "data": {
      "text/plain": [
       "count    1.379850e+06\n",
       "mean     5.057374e+02\n",
       "std      2.078145e+03\n",
       "min     -1.611111e-02\n",
       "25%      1.518611e+00\n",
       "50%      2.152556e+01\n",
       "75%      1.597068e+02\n",
       "max      6.441159e+04\n",
       "Name: duration_hours, dtype: float64"
      ]
     },
     "execution_count": 17,
     "metadata": {},
     "output_type": "execute_result"
    }
   ],
   "source": [
    "resolution_time.describe()"
   ]
  },
  {
   "cell_type": "markdown",
   "metadata": {},
   "source": [
    "While it may be tempting to remove these extremes as outliers, examining them more closely helps to illuminate the data. For instance, did a ticket really take more than 64,000 hours (7.3 years) to close? If we slice the data for records with a duration > 64,000 hours, we can then retrieve the ticket information. This ticket for road repair was opened in September 2011 and was closed in January 2019. "
   ]
  },
  {
   "cell_type": "code",
   "execution_count": 18,
   "metadata": {},
   "outputs": [
    {
     "data": {
      "text/plain": [
       "case_enquiry_id                                                        101000328232\n",
       "open_dt                                                         2011-09-12 15:27:57\n",
       "target_dt                                                                       NaT\n",
       "closed_dt                                                       2019-01-17 11:03:30\n",
       "ontime                                                                       ONTIME\n",
       "case_status                                                                  Closed\n",
       "closure_reason                    Case Closed. Closed date : 2019-01-17 11:03:30...\n",
       "case_title                                                           Roadway Repair\n",
       "subject                                                     Public Works Department\n",
       "reason                                                          Highway Maintenance\n",
       "type                                                                 Roadway Repair\n",
       "queue                                           PWDx_Roadway Repair_ARP_Resurfacing\n",
       "department                                                                     PWDx\n",
       "submittedphoto                                                                  NaN\n",
       "closedphoto                                                                     NaN\n",
       "location                          INTERSECTION of Columbus Ave & Northampton St ...\n",
       "fire_district                                                                     9\n",
       "pwd_district                                                                    10B\n",
       "city_council_district                                                             7\n",
       "police_district                                                                  D4\n",
       "neighborhood                                                                Roxbury\n",
       "neighborhood_services_district                                                   13\n",
       "ward                                                                         Ward 9\n",
       "precinct                                                                       0903\n",
       "location_street_name                     INTERSECTION Columbus Ave & Northampton St\n",
       "location_zipcode                                                                NaN\n",
       "latitude                                                                      42.34\n",
       "longitude                                                                  -71.0825\n",
       "source                                                             Constituent Call\n",
       "duration                                                         2683 days 19:35:33\n",
       "duration_hours                                                              64411.6\n",
       "Name: 15852, dtype: object"
      ]
     },
     "execution_count": 18,
     "metadata": {},
     "output_type": "execute_result"
    }
   ],
   "source": [
    "outlier_long = resolution_time.loc[resolution_time > 64000] # get tickets with duration > 64000 hours\n",
    "bos311.iloc[outlier_long.index[0]]  # get record info"
   ]
  },
  {
   "cell_type": "markdown",
   "metadata": {},
   "source": [
    "We can do the same for tickets at the other side of the data: tickets open for less than 1 minute. Case enquiry_id 10100295643 was closed at the same time it was opened. This is probably the case where an issue was reported after the fact. This process is a good way, perhaps, for the City to track __THAT__ work was done but it doesn't help to communicate real response time. In the second code cell that follows, we can see that there are over 17000 tickets that took less than 1 minute to close."
   ]
  },
  {
   "cell_type": "code",
   "execution_count": 19,
   "metadata": {},
   "outputs": [
    {
     "data": {
      "text/plain": [
       "case_enquiry_id                                                        101000295643\n",
       "open_dt                                                         2011-07-01 08:03:09\n",
       "target_dt                                                                       NaT\n",
       "closed_dt                                                       2011-07-01 08:03:09\n",
       "ontime                                                                       ONTIME\n",
       "case_status                                                                  Closed\n",
       "closure_reason                    Case Closed Internal Case Performed by Highway...\n",
       "case_title                                                Pothole Repair (Internal)\n",
       "subject                                                     Public Works Department\n",
       "reason                                                          Highway Maintenance\n",
       "type                                                      Pothole Repair (Internal)\n",
       "queue                                            PWDx_District 07: South Dorchester\n",
       "department                                                                     PWDx\n",
       "submittedphoto                                                                  NaN\n",
       "closedphoto                                                                     NaN\n",
       "location                                        13 Dracut St  Dorchester  MA  02124\n",
       "fire_district                                                                     8\n",
       "pwd_district                                                                     07\n",
       "city_council_district                                                             3\n",
       "police_district                                                                 C11\n",
       "neighborhood                                                             Dorchester\n",
       "neighborhood_services_district                                                    7\n",
       "ward                                                                        Ward 16\n",
       "precinct                                                                       1606\n",
       "location_street_name                                                   13 Dracut St\n",
       "location_zipcode                                                              02124\n",
       "latitude                                                                    42.2869\n",
       "longitude                                                                  -71.0633\n",
       "source                                                           Employee Generated\n",
       "duration                                                            0 days 00:00:00\n",
       "duration_hours                                                                    0\n",
       "Name: 14, dtype: object"
      ]
     },
     "execution_count": 19,
     "metadata": {},
     "output_type": "execute_result"
    }
   ],
   "source": [
    "outlier_short = resolution_time.loc[resolution_time < 0.00027] # get tickets with duration < 1 minute\n",
    "bos311.iloc[outlier_short.index[0]]  # get record info"
   ]
  },
  {
   "cell_type": "code",
   "execution_count": 20,
   "metadata": {},
   "outputs": [
    {
     "data": {
      "text/plain": [
       "17659"
      ]
     },
     "execution_count": 20,
     "metadata": {},
     "output_type": "execute_result"
    }
   ],
   "source": [
    "len(outlier_short) # display the number of tickets with a duration of < 1 minute"
   ]
  },
  {
   "cell_type": "markdown",
   "metadata": {},
   "source": [
    "## Refining the Definition of Duration\n",
    "\n",
    "While tickets that are closed within seconds and tickets that are open for years both appear to be legitimate service cases, they are not very helpful when trying to gain an understanding of typical resolution times. This is especially true when tickets are created after the work has been done or when a 3-1-1 service request is closed in seconds only because a ticket was opened in another ticketing system. I will return to the duration times _with_ these outliers in it, but for the moment I will subset the tickets to those falling into a more interpretable time range. The range I have selected is all closed tickets with a resolution duration between 30 minutes and 1 month. Doing so gives us a set of over 1 million closed tickets (down from 1.4 million before the subsetting)."
   ]
  },
  {
   "cell_type": "code",
   "execution_count": 21,
   "metadata": {},
   "outputs": [
    {
     "data": {
      "text/plain": [
       "1021848"
      ]
     },
     "execution_count": 21,
     "metadata": {},
     "output_type": "execute_result"
    }
   ],
   "source": [
    "resolution_time2 = resolution_time.loc[(resolution_time > 0.5) & (resolution_time < 720)]\n",
    "len(resolution_time2)"
   ]
  },
  {
   "cell_type": "markdown",
   "metadata": {},
   "source": [
    "Running the `.describe()` method on our duration hours, we can observe that the average resolution duration time is just under 9 hours."
   ]
  },
  {
   "cell_type": "code",
   "execution_count": 22,
   "metadata": {},
   "outputs": [
    {
     "data": {
      "text/plain": [
       "count    1.021848e+06\n",
       "mean     8.987278e+01\n",
       "std      1.371197e+02\n",
       "min      5.002778e-01\n",
       "25%      4.022500e+00\n",
       "50%      2.475583e+01\n",
       "75%      1.189842e+02\n",
       "max      7.199981e+02\n",
       "Name: duration_hours, dtype: float64"
      ]
     },
     "execution_count": 22,
     "metadata": {},
     "output_type": "execute_result"
    }
   ],
   "source": [
    "resolution_time2.describe()"
   ]
  },
  {
   "cell_type": "markdown",
   "metadata": {},
   "source": [
    "Plotting the subsetted data shows that the majority of closed service request tickets had a resolution duration of under just over 24 hours."
   ]
  },
  {
   "cell_type": "code",
   "execution_count": 23,
   "metadata": {},
   "outputs": [
    {
     "data": {
      "image/png": "[encoded data removed]",
      "text/plain": [
       "<Figure size 576x432 with 1 Axes>"
      ]
     },
     "metadata": {},
     "output_type": "display_data"
    }
   ],
   "source": [
    "plt.figure(figsize=(8,6)) \n",
    "plt.hist(resolution_time2,\n",
    "        bins = 20,\n",
    "        density=False,\n",
    "        color=\"#B22222\")\n",
    "plt.title('Distribution of Resolution Duration', fontsize=18)\n",
    "plt.xlabel('Resolution Duration (Hours)', fontsize=14)\n",
    "plt.ylabel('Count of Tickets', fontsize=14)\n",
    "\n",
    "plt.show()"
   ]
  },
  {
   "cell_type": "markdown",
   "metadata": {},
   "source": [
    "## Resolution Duration by Groups\n",
    "\n",
    "Knowing that the majority of closed tickets were resolved in about a day may be helpful to the City and its residents. This number provides some level of benchmark for people to evaluate when their ticket may be resolved. However, it would be helpful to know if different kinds of tickets have different resolution times. To get these answers, let's first create a new dataframe with all the columns from the original data set, filtering for closed tickets with resolution duration between 30 minutes and 1 month."
   ]
  },
  {
   "cell_type": "code",
   "execution_count": 24,
   "metadata": {},
   "outputs": [],
   "source": [
    "bos311_closed = bos311.loc[(bos311['case_status'] == 'Closed') &\n",
    "                           (bos311['duration_hours'] > 0.5) &\n",
    "                           (bos311['duration_hours'] < 720)]"
   ]
  },
  {
   "cell_type": "code",
   "execution_count": 25,
   "metadata": {},
   "outputs": [
    {
     "data": {
      "text/plain": [
       "count    1.021848e+06\n",
       "mean     8.987278e+01\n",
       "std      1.371197e+02\n",
       "min      5.002778e-01\n",
       "25%      4.022500e+00\n",
       "50%      2.475583e+01\n",
       "75%      1.189842e+02\n",
       "max      7.199981e+02\n",
       "Name: duration_hours, dtype: float64"
      ]
     },
     "execution_count": 25,
     "metadata": {},
     "output_type": "execute_result"
    }
   ],
   "source": [
    "bos311_closed['duration_hours'].describe()  # same numbers as before, as expected"
   ]
  },
  {
   "cell_type": "markdown",
   "metadata": {},
   "source": [
    "### What Can We Learn From Groups?\n",
    "In this section, I look at the resolution duration through the lens of different groups. For example, what is the median time a ticket was open when grouped by Boston neighborhood? To do this, I have created a custom function, `median_by_group` that groups a dataframe by one column and calculates the median for each group on another column."
   ]
  },
  {
   "cell_type": "markdown",
   "metadata": {},
   "source": [
    "#### Resolution Time by Neighborhood"
   ]
  },
  {
   "cell_type": "markdown",
   "metadata": {},
   "source": [
    "Grouping by neighborhood and getting the median duration for a resolved ticket, we can view the neighborhoods that experience the longest time for closed tickets and we can view the neighborhoods that experience the shortest time for closed tickets. Mattapan, West Roxbury, and Dorchester experience the slowest resolution time and Beacon Hill, Downtown, the South End and South Boston experience the quickest resolution time--more than three times as fast."
   ]
  },
  {
   "cell_type": "code",
   "execution_count": 26,
   "metadata": {
    "scrolled": true
   },
   "outputs": [
    {
     "data": {
      "text/html": [
       "<div>\n",
       "<style scoped>\n",
       "    .dataframe tbody tr th:only-of-type {\n",
       "        vertical-align: middle;\n",
       "    }\n",
       "\n",
       "    .dataframe tbody tr th {\n",
       "        vertical-align: top;\n",
       "    }\n",
       "\n",
       "    .dataframe thead th {\n",
       "        text-align: right;\n",
       "    }\n",
       "</style>\n",
       "<table border=\"1\" class=\"dataframe\">\n",
       "  <thead>\n",
       "    <tr style=\"text-align: right;\">\n",
       "      <th></th>\n",
       "      <th>neighborhood</th>\n",
       "      <th>duration_hours</th>\n",
       "    </tr>\n",
       "  </thead>\n",
       "  <tbody>\n",
       "    <tr>\n",
       "      <th>13</th>\n",
       "      <td>Greater Mattapan</td>\n",
       "      <td>51.237778</td>\n",
       "    </tr>\n",
       "    <tr>\n",
       "      <th>16</th>\n",
       "      <td>Mattapan</td>\n",
       "      <td>48.368611</td>\n",
       "    </tr>\n",
       "    <tr>\n",
       "      <th>0</th>\n",
       "      <td></td>\n",
       "      <td>47.445278</td>\n",
       "    </tr>\n",
       "    <tr>\n",
       "      <th>23</th>\n",
       "      <td>West Roxbury</td>\n",
       "      <td>47.330556</td>\n",
       "    </tr>\n",
       "    <tr>\n",
       "      <th>9</th>\n",
       "      <td>Dorchester</td>\n",
       "      <td>40.460556</td>\n",
       "    </tr>\n",
       "  </tbody>\n",
       "</table>\n",
       "</div>"
      ],
      "text/plain": [
       "        neighborhood  duration_hours\n",
       "13  Greater Mattapan       51.237778\n",
       "16          Mattapan       48.368611\n",
       "0                          47.445278\n",
       "23      West Roxbury       47.330556\n",
       "9         Dorchester       40.460556"
      ]
     },
     "execution_count": 26,
     "metadata": {},
     "output_type": "execute_result"
    }
   ],
   "source": [
    "median_by_group(bos311_closed, \"neighborhood\", \"duration_hours\").head()"
   ]
  },
  {
   "cell_type": "code",
   "execution_count": 27,
   "metadata": {},
   "outputs": [
    {
     "data": {
      "text/html": [
       "<div>\n",
       "<style scoped>\n",
       "    .dataframe tbody tr th:only-of-type {\n",
       "        vertical-align: middle;\n",
       "    }\n",
       "\n",
       "    .dataframe tbody tr th {\n",
       "        vertical-align: top;\n",
       "    }\n",
       "\n",
       "    .dataframe thead th {\n",
       "        text-align: right;\n",
       "    }\n",
       "</style>\n",
       "<table border=\"1\" class=\"dataframe\">\n",
       "  <thead>\n",
       "    <tr style=\"text-align: right;\">\n",
       "      <th></th>\n",
       "      <th>neighborhood</th>\n",
       "      <th>duration_hours</th>\n",
       "    </tr>\n",
       "  </thead>\n",
       "  <tbody>\n",
       "    <tr>\n",
       "      <th>20</th>\n",
       "      <td>South Boston</td>\n",
       "      <td>19.677778</td>\n",
       "    </tr>\n",
       "    <tr>\n",
       "      <th>10</th>\n",
       "      <td>Downtown / Financial District</td>\n",
       "      <td>17.875556</td>\n",
       "    </tr>\n",
       "    <tr>\n",
       "      <th>22</th>\n",
       "      <td>South End</td>\n",
       "      <td>17.658472</td>\n",
       "    </tr>\n",
       "    <tr>\n",
       "      <th>21</th>\n",
       "      <td>South Boston / South Boston Waterfront</td>\n",
       "      <td>16.694722</td>\n",
       "    </tr>\n",
       "    <tr>\n",
       "      <th>4</th>\n",
       "      <td>Beacon Hill</td>\n",
       "      <td>15.592778</td>\n",
       "    </tr>\n",
       "  </tbody>\n",
       "</table>\n",
       "</div>"
      ],
      "text/plain": [
       "                              neighborhood  duration_hours\n",
       "20                            South Boston       19.677778\n",
       "10           Downtown / Financial District       17.875556\n",
       "22                               South End       17.658472\n",
       "21  South Boston / South Boston Waterfront       16.694722\n",
       "4                              Beacon Hill       15.592778"
      ]
     },
     "execution_count": 27,
     "metadata": {},
     "output_type": "execute_result"
    }
   ],
   "source": [
    "median_by_group(bos311_closed, \"neighborhood\", \"duration_hours\").tail()"
   ]
  },
  {
   "cell_type": "markdown",
   "metadata": {},
   "source": [
    "The results don't vary much if we perform this same calculation on _all tickets_, not just closed tickets with durations between 30 minutes and 30 days, although now Allson and Brighton join the group with slowest to close tickets. Interestingly, the tickets without a neighborhood indicated jump from the slowest group to the quickest resolved."
   ]
  },
  {
   "cell_type": "code",
   "execution_count": 28,
   "metadata": {},
   "outputs": [
    {
     "data": {
      "text/html": [
       "<div>\n",
       "<style scoped>\n",
       "    .dataframe tbody tr th:only-of-type {\n",
       "        vertical-align: middle;\n",
       "    }\n",
       "\n",
       "    .dataframe tbody tr th {\n",
       "        vertical-align: top;\n",
       "    }\n",
       "\n",
       "    .dataframe thead th {\n",
       "        text-align: right;\n",
       "    }\n",
       "</style>\n",
       "<table border=\"1\" class=\"dataframe\">\n",
       "  <thead>\n",
       "    <tr style=\"text-align: right;\">\n",
       "      <th></th>\n",
       "      <th>neighborhood</th>\n",
       "      <th>duration_hours</th>\n",
       "    </tr>\n",
       "  </thead>\n",
       "  <tbody>\n",
       "    <tr>\n",
       "      <th>16</th>\n",
       "      <td>Mattapan</td>\n",
       "      <td>45.673611</td>\n",
       "    </tr>\n",
       "    <tr>\n",
       "      <th>13</th>\n",
       "      <td>Greater Mattapan</td>\n",
       "      <td>43.447778</td>\n",
       "    </tr>\n",
       "    <tr>\n",
       "      <th>1</th>\n",
       "      <td>Allston</td>\n",
       "      <td>39.169444</td>\n",
       "    </tr>\n",
       "    <tr>\n",
       "      <th>9</th>\n",
       "      <td>Dorchester</td>\n",
       "      <td>30.425417</td>\n",
       "    </tr>\n",
       "    <tr>\n",
       "      <th>6</th>\n",
       "      <td>Brighton</td>\n",
       "      <td>25.630417</td>\n",
       "    </tr>\n",
       "  </tbody>\n",
       "</table>\n",
       "</div>"
      ],
      "text/plain": [
       "        neighborhood  duration_hours\n",
       "16          Mattapan       45.673611\n",
       "13  Greater Mattapan       43.447778\n",
       "1            Allston       39.169444\n",
       "9         Dorchester       30.425417\n",
       "6           Brighton       25.630417"
      ]
     },
     "execution_count": 28,
     "metadata": {},
     "output_type": "execute_result"
    }
   ],
   "source": [
    "median_by_group(bos311, \"neighborhood\", \"duration_hours\").head()"
   ]
  },
  {
   "cell_type": "code",
   "execution_count": 29,
   "metadata": {},
   "outputs": [
    {
     "data": {
      "text/html": [
       "<div>\n",
       "<style scoped>\n",
       "    .dataframe tbody tr th:only-of-type {\n",
       "        vertical-align: middle;\n",
       "    }\n",
       "\n",
       "    .dataframe tbody tr th {\n",
       "        vertical-align: top;\n",
       "    }\n",
       "\n",
       "    .dataframe thead th {\n",
       "        text-align: right;\n",
       "    }\n",
       "</style>\n",
       "<table border=\"1\" class=\"dataframe\">\n",
       "  <thead>\n",
       "    <tr style=\"text-align: right;\">\n",
       "      <th></th>\n",
       "      <th>neighborhood</th>\n",
       "      <th>duration_hours</th>\n",
       "    </tr>\n",
       "  </thead>\n",
       "  <tbody>\n",
       "    <tr>\n",
       "      <th>22</th>\n",
       "      <td>South End</td>\n",
       "      <td>17.751389</td>\n",
       "    </tr>\n",
       "    <tr>\n",
       "      <th>0</th>\n",
       "      <td></td>\n",
       "      <td>17.634167</td>\n",
       "    </tr>\n",
       "    <tr>\n",
       "      <th>10</th>\n",
       "      <td>Downtown / Financial District</td>\n",
       "      <td>16.216250</td>\n",
       "    </tr>\n",
       "    <tr>\n",
       "      <th>21</th>\n",
       "      <td>South Boston / South Boston Waterfront</td>\n",
       "      <td>15.627778</td>\n",
       "    </tr>\n",
       "    <tr>\n",
       "      <th>4</th>\n",
       "      <td>Beacon Hill</td>\n",
       "      <td>13.821806</td>\n",
       "    </tr>\n",
       "  </tbody>\n",
       "</table>\n",
       "</div>"
      ],
      "text/plain": [
       "                              neighborhood  duration_hours\n",
       "22                               South End       17.751389\n",
       "0                                                17.634167\n",
       "10           Downtown / Financial District       16.216250\n",
       "21  South Boston / South Boston Waterfront       15.627778\n",
       "4                              Beacon Hill       13.821806"
      ]
     },
     "execution_count": 29,
     "metadata": {},
     "output_type": "execute_result"
    }
   ],
   "source": [
    "median_by_group(bos311, \"neighborhood\", \"duration_hours\").tail()"
   ]
  },
  {
   "cell_type": "markdown",
   "metadata": {},
   "source": [
    "#### Resolution Time by Ticket Subject\n",
    "Another important variable in the ticket data is the subject for the ticket. Using the same `median_by_group` function used above, we can determine which ticket subjects take the longest amount of time to close and which subjects take the shortest. These calculations are performed on the subsetted data of closed tickets with durations between 30 minutes and 1 month.\n",
    "\n",
    "Property Management, Civil Rights, Inspectional Services are among the slowest while Consumer Affairs & Licensing, Transportion, and Public Works are among the quickest. Intuitively, this makes sense because the nature of the cases handled for Civil Rights issues (e.g. claim of racial discrimination) could require more time than a case handled by Public Works (e.g. fixing a pothole)."
   ]
  },
  {
   "cell_type": "code",
   "execution_count": 30,
   "metadata": {},
   "outputs": [
    {
     "data": {
      "text/html": [
       "<div>\n",
       "<style scoped>\n",
       "    .dataframe tbody tr th:only-of-type {\n",
       "        vertical-align: middle;\n",
       "    }\n",
       "\n",
       "    .dataframe tbody tr th {\n",
       "        vertical-align: top;\n",
       "    }\n",
       "\n",
       "    .dataframe thead th {\n",
       "        text-align: right;\n",
       "    }\n",
       "</style>\n",
       "<table border=\"1\" class=\"dataframe\">\n",
       "  <thead>\n",
       "    <tr style=\"text-align: right;\">\n",
       "      <th></th>\n",
       "      <th>subject</th>\n",
       "      <th>duration_hours</th>\n",
       "    </tr>\n",
       "  </thead>\n",
       "  <tbody>\n",
       "    <tr>\n",
       "      <th>10</th>\n",
       "      <td>Property Management</td>\n",
       "      <td>163.500278</td>\n",
       "    </tr>\n",
       "    <tr>\n",
       "      <th>3</th>\n",
       "      <td>Civil Rights</td>\n",
       "      <td>148.315833</td>\n",
       "    </tr>\n",
       "    <tr>\n",
       "      <th>6</th>\n",
       "      <td>Inspectional Services</td>\n",
       "      <td>138.836111</td>\n",
       "    </tr>\n",
       "    <tr>\n",
       "      <th>14</th>\n",
       "      <td>Youthline</td>\n",
       "      <td>127.395278</td>\n",
       "    </tr>\n",
       "    <tr>\n",
       "      <th>5</th>\n",
       "      <td>Disability Department</td>\n",
       "      <td>118.580556</td>\n",
       "    </tr>\n",
       "  </tbody>\n",
       "</table>\n",
       "</div>"
      ],
      "text/plain": [
       "                  subject  duration_hours\n",
       "10    Property Management      163.500278\n",
       "3            Civil Rights      148.315833\n",
       "6   Inspectional Services      138.836111\n",
       "14              Youthline      127.395278\n",
       "5   Disability Department      118.580556"
      ]
     },
     "execution_count": 30,
     "metadata": {},
     "output_type": "execute_result"
    }
   ],
   "source": [
    "median_by_group(bos311_closed, \"subject\", \"duration_hours\").head()"
   ]
  },
  {
   "cell_type": "code",
   "execution_count": 31,
   "metadata": {},
   "outputs": [
    {
     "data": {
      "text/html": [
       "<div>\n",
       "<style scoped>\n",
       "    .dataframe tbody tr th:only-of-type {\n",
       "        vertical-align: middle;\n",
       "    }\n",
       "\n",
       "    .dataframe tbody tr th {\n",
       "        vertical-align: top;\n",
       "    }\n",
       "\n",
       "    .dataframe thead th {\n",
       "        text-align: right;\n",
       "    }\n",
       "</style>\n",
       "<table border=\"1\" class=\"dataframe\">\n",
       "  <thead>\n",
       "    <tr style=\"text-align: right;\">\n",
       "      <th></th>\n",
       "      <th>subject</th>\n",
       "      <th>duration_hours</th>\n",
       "    </tr>\n",
       "  </thead>\n",
       "  <tbody>\n",
       "    <tr>\n",
       "      <th>13</th>\n",
       "      <td>Veterans</td>\n",
       "      <td>24.346111</td>\n",
       "    </tr>\n",
       "    <tr>\n",
       "      <th>11</th>\n",
       "      <td>Public Works Department</td>\n",
       "      <td>23.175694</td>\n",
       "    </tr>\n",
       "    <tr>\n",
       "      <th>7</th>\n",
       "      <td>Mayor's 24 Hour Hotline</td>\n",
       "      <td>20.445972</td>\n",
       "    </tr>\n",
       "    <tr>\n",
       "      <th>12</th>\n",
       "      <td>Transportation - Traffic Division</td>\n",
       "      <td>11.797500</td>\n",
       "    </tr>\n",
       "    <tr>\n",
       "      <th>4</th>\n",
       "      <td>Consumer Affairs &amp; Licensing</td>\n",
       "      <td>10.301111</td>\n",
       "    </tr>\n",
       "  </tbody>\n",
       "</table>\n",
       "</div>"
      ],
      "text/plain": [
       "                              subject  duration_hours\n",
       "13                           Veterans       24.346111\n",
       "11            Public Works Department       23.175694\n",
       "7             Mayor's 24 Hour Hotline       20.445972\n",
       "12  Transportation - Traffic Division       11.797500\n",
       "4        Consumer Affairs & Licensing       10.301111"
      ]
     },
     "execution_count": 31,
     "metadata": {},
     "output_type": "execute_result"
    }
   ],
   "source": [
    "median_by_group(bos311_closed, \"subject\", \"duration_hours\").tail()"
   ]
  },
  {
   "cell_type": "markdown",
   "metadata": {},
   "source": [
    "#### Resolution Time by Ticket Reasons\n",
    "One final slice I will make of the data is to view the median duration for closed tickets by ticket reason. Ticket reason describes the type of work the service request is asking for. Tickets about installing signs in designated hero squares take the longest while the needle program and street cleaning are among the quickest."
   ]
  },
  {
   "cell_type": "code",
   "execution_count": 32,
   "metadata": {},
   "outputs": [
    {
     "data": {
      "text/html": [
       "<div>\n",
       "<style scoped>\n",
       "    .dataframe tbody tr th:only-of-type {\n",
       "        vertical-align: middle;\n",
       "    }\n",
       "\n",
       "    .dataframe tbody tr th {\n",
       "        vertical-align: top;\n",
       "    }\n",
       "\n",
       "    .dataframe thead th {\n",
       "        text-align: right;\n",
       "    }\n",
       "</style>\n",
       "<table border=\"1\" class=\"dataframe\">\n",
       "  <thead>\n",
       "    <tr style=\"text-align: right;\">\n",
       "      <th></th>\n",
       "      <th>reason</th>\n",
       "      <th>duration_hours</th>\n",
       "    </tr>\n",
       "  </thead>\n",
       "  <tbody>\n",
       "    <tr>\n",
       "      <th>27</th>\n",
       "      <td>Hero Square Sign</td>\n",
       "      <td>431.213056</td>\n",
       "    </tr>\n",
       "    <tr>\n",
       "      <th>29</th>\n",
       "      <td>Housing</td>\n",
       "      <td>210.966111</td>\n",
       "    </tr>\n",
       "    <tr>\n",
       "      <th>0</th>\n",
       "      <td>Abandoned Bicycle</td>\n",
       "      <td>170.809167</td>\n",
       "    </tr>\n",
       "    <tr>\n",
       "      <th>20</th>\n",
       "      <td>Environmental Services</td>\n",
       "      <td>169.158333</td>\n",
       "    </tr>\n",
       "    <tr>\n",
       "      <th>30</th>\n",
       "      <td>Investigations and Enforcement</td>\n",
       "      <td>166.982222</td>\n",
       "    </tr>\n",
       "  </tbody>\n",
       "</table>\n",
       "</div>"
      ],
      "text/plain": [
       "                            reason  duration_hours\n",
       "27                Hero Square Sign      431.213056\n",
       "29                         Housing      210.966111\n",
       "0                Abandoned Bicycle      170.809167\n",
       "20          Environmental Services      169.158333\n",
       "30  Investigations and Enforcement      166.982222"
      ]
     },
     "execution_count": 32,
     "metadata": {},
     "output_type": "execute_result"
    }
   ],
   "source": [
    "median_by_group(bos311_closed, \"reason\", \"duration_hours\").head()"
   ]
  },
  {
   "cell_type": "code",
   "execution_count": 33,
   "metadata": {},
   "outputs": [
    {
     "data": {
      "text/html": [
       "<div>\n",
       "<style scoped>\n",
       "    .dataframe tbody tr th:only-of-type {\n",
       "        vertical-align: middle;\n",
       "    }\n",
       "\n",
       "    .dataframe tbody tr th {\n",
       "        vertical-align: top;\n",
       "    }\n",
       "\n",
       "    .dataframe thead th {\n",
       "        text-align: right;\n",
       "    }\n",
       "</style>\n",
       "<table border=\"1\" class=\"dataframe\">\n",
       "  <thead>\n",
       "    <tr style=\"text-align: right;\">\n",
       "      <th></th>\n",
       "      <th>reason</th>\n",
       "      <th>duration_hours</th>\n",
       "    </tr>\n",
       "  </thead>\n",
       "  <tbody>\n",
       "    <tr>\n",
       "      <th>14</th>\n",
       "      <td>Code Enforcement</td>\n",
       "      <td>10.194444</td>\n",
       "    </tr>\n",
       "    <tr>\n",
       "      <th>48</th>\n",
       "      <td>Street Cleaning</td>\n",
       "      <td>5.416667</td>\n",
       "    </tr>\n",
       "    <tr>\n",
       "      <th>19</th>\n",
       "      <td>Enforcement &amp; Abandoned Vehicles</td>\n",
       "      <td>4.050556</td>\n",
       "    </tr>\n",
       "    <tr>\n",
       "      <th>33</th>\n",
       "      <td>Needle Program</td>\n",
       "      <td>3.197500</td>\n",
       "    </tr>\n",
       "    <tr>\n",
       "      <th>10</th>\n",
       "      <td>Call Center Intake</td>\n",
       "      <td>1.556667</td>\n",
       "    </tr>\n",
       "  </tbody>\n",
       "</table>\n",
       "</div>"
      ],
      "text/plain": [
       "                              reason  duration_hours\n",
       "14                  Code Enforcement       10.194444\n",
       "48                   Street Cleaning        5.416667\n",
       "19  Enforcement & Abandoned Vehicles        4.050556\n",
       "33                    Needle Program        3.197500\n",
       "10                Call Center Intake        1.556667"
      ]
     },
     "execution_count": 33,
     "metadata": {},
     "output_type": "execute_result"
    }
   ],
   "source": [
    "median_by_group(bos311_closed, \"reason\", \"duration_hours\").tail()"
   ]
  },
  {
   "cell_type": "markdown",
   "metadata": {},
   "source": [
    "## Does Race Matter?\n",
    "Viewing the resolution duration times by groupings of neighborhood, ticket subject, and ticket reason are helpful ways to gain more insight on what drives the length of time it will take to close a ticket. I can take this one level deeper to examine what other factors may be at play in the resolution duration. Why, for example, would the neighborhood impact the resolution duration? Proximity to resources? The importance of the constituency to politicians? Income? What follows is by no means a definitive or exhaustive analysis of potential factors connecting neighborhood and resolution duration. I will, however, look at one dimension--race--to examine its role in resolution duration.\n",
    "\n",
    "For this analysis, I will use the race and ethnicity data from the Boston census data described at the beginning of this notebook. The data I want is from the 2010 census data (the most recent available). To begin, we need to isolate the demographic data that we want. As I mentioned earlier, all the demographic data, from 1950 - 2010, is contained in one Excel file. Each neighborhood's data is on its own, separate worksheet in the same file.\n",
    "\n",
    "I have written a function below that takes as its argument the name of one of the worksheets in the census data Excel file. The function will return the value for the percentage of whites in the 2010 data.\n",
    "\n",
    "For example, if we want to get the percentage of whites in Roxbury for 2010, we can execute the following code:"
   ]
  },
  {
   "cell_type": "code",
   "execution_count": 34,
   "metadata": {},
   "outputs": [],
   "source": [
    "# function to get value at row 'White' and column 'Unnamed: 14', which is the location of 2010 population percentages\n",
    "\n",
    "def get_worksheet_data(sheet_name):\n",
    "    mydata = pd.read_excel(data_path2,\n",
    "                          sheet_name=sheet_name,\n",
    "                           index_col=0)\n",
    "    return mydata.at['White', 'Unnamed: 14']"
   ]
  },
  {
   "cell_type": "code",
   "execution_count": 35,
   "metadata": {},
   "outputs": [
    {
     "data": {
      "text/plain": [
       "0.10185090916495286"
      ]
     },
     "execution_count": 35,
     "metadata": {},
     "output_type": "execute_result"
    }
   ],
   "source": [
    "get_worksheet_data('Roxbury')"
   ]
  },
  {
   "cell_type": "markdown",
   "metadata": {},
   "source": [
    "Now we can use this function to get the data we need for all neighborhoods. Using the `get_worksheet_names` function we can get the list of worksheets. Using Python's `apply` function, we can apply the `get_worksheet_data` function to the list of worksheets. All the results are then combined into a dataframe."
   ]
  },
  {
   "cell_type": "code",
   "execution_count": 36,
   "metadata": {},
   "outputs": [
    {
     "data": {
      "text/plain": [
       "0     0.574041\n",
       "1     0.787871\n",
       "2     0.868004\n",
       "3     0.697751\n",
       "4     0.757832\n",
       "5     0.221639\n",
       "6     0.579102\n",
       "7     0.371556\n",
       "8     0.648916\n",
       "9     0.308411\n",
       "10    0.282452\n",
       "11    0.536310\n",
       "12    0.695536\n",
       "13    0.063733\n",
       "14    0.473628\n",
       "15    0.916357\n",
       "16    0.506789\n",
       "17    0.101851\n",
       "18    0.855694\n",
       "19    0.782514\n",
       "20    0.541132\n",
       "21    0.636179\n",
       "22    0.732534\n",
       "dtype: float64"
      ]
     },
     "execution_count": 36,
     "metadata": {},
     "output_type": "execute_result"
    }
   ],
   "source": [
    "mylist = get_worksheet_names(data_path2)\n",
    "percentages = pd.Series(mylist).apply(get_worksheet_data)\n",
    "percentages"
   ]
  },
  {
   "cell_type": "markdown",
   "metadata": {},
   "source": [
    "Now, we can put everything together and create a dataframe of neigbhorhood names and percentage of the population that is white in that neighborhood."
   ]
  },
  {
   "cell_type": "code",
   "execution_count": 37,
   "metadata": {},
   "outputs": [],
   "source": [
    "race = pd.DataFrame(mylist, percentages).reset_index()\n",
    "race.columns = ['Percent', 'Neighborhood']"
   ]
  },
  {
   "cell_type": "code",
   "execution_count": 38,
   "metadata": {},
   "outputs": [
    {
     "data": {
      "text/html": [
       "<div>\n",
       "<style scoped>\n",
       "    .dataframe tbody tr th:only-of-type {\n",
       "        vertical-align: middle;\n",
       "    }\n",
       "\n",
       "    .dataframe tbody tr th {\n",
       "        vertical-align: top;\n",
       "    }\n",
       "\n",
       "    .dataframe thead th {\n",
       "        text-align: right;\n",
       "    }\n",
       "</style>\n",
       "<table border=\"1\" class=\"dataframe\">\n",
       "  <thead>\n",
       "    <tr style=\"text-align: right;\">\n",
       "      <th></th>\n",
       "      <th>Percent</th>\n",
       "      <th>Neighborhood</th>\n",
       "    </tr>\n",
       "  </thead>\n",
       "  <tbody>\n",
       "    <tr>\n",
       "      <th>0</th>\n",
       "      <td>0.574041</td>\n",
       "      <td>Allston</td>\n",
       "    </tr>\n",
       "    <tr>\n",
       "      <th>1</th>\n",
       "      <td>0.787871</td>\n",
       "      <td>Back Bay</td>\n",
       "    </tr>\n",
       "    <tr>\n",
       "      <th>2</th>\n",
       "      <td>0.868004</td>\n",
       "      <td>Beacon Hill</td>\n",
       "    </tr>\n",
       "    <tr>\n",
       "      <th>3</th>\n",
       "      <td>0.697751</td>\n",
       "      <td>Brighton</td>\n",
       "    </tr>\n",
       "    <tr>\n",
       "      <th>4</th>\n",
       "      <td>0.757832</td>\n",
       "      <td>Charlestown</td>\n",
       "    </tr>\n",
       "    <tr>\n",
       "      <th>5</th>\n",
       "      <td>0.221639</td>\n",
       "      <td>Dorchester</td>\n",
       "    </tr>\n",
       "    <tr>\n",
       "      <th>6</th>\n",
       "      <td>0.579102</td>\n",
       "      <td>Downtown</td>\n",
       "    </tr>\n",
       "    <tr>\n",
       "      <th>7</th>\n",
       "      <td>0.371556</td>\n",
       "      <td>East Boston</td>\n",
       "    </tr>\n",
       "    <tr>\n",
       "      <th>8</th>\n",
       "      <td>0.648916</td>\n",
       "      <td>Fenway</td>\n",
       "    </tr>\n",
       "    <tr>\n",
       "      <th>9</th>\n",
       "      <td>0.308411</td>\n",
       "      <td>Harbor Islands</td>\n",
       "    </tr>\n",
       "    <tr>\n",
       "      <th>10</th>\n",
       "      <td>0.282452</td>\n",
       "      <td>Hyde Park</td>\n",
       "    </tr>\n",
       "    <tr>\n",
       "      <th>11</th>\n",
       "      <td>0.536310</td>\n",
       "      <td>Jamaica Plain</td>\n",
       "    </tr>\n",
       "    <tr>\n",
       "      <th>12</th>\n",
       "      <td>0.695536</td>\n",
       "      <td>Longwood Medical Area</td>\n",
       "    </tr>\n",
       "    <tr>\n",
       "      <th>13</th>\n",
       "      <td>0.063733</td>\n",
       "      <td>Mattapan</td>\n",
       "    </tr>\n",
       "    <tr>\n",
       "      <th>14</th>\n",
       "      <td>0.473628</td>\n",
       "      <td>Mission Hill</td>\n",
       "    </tr>\n",
       "    <tr>\n",
       "      <th>15</th>\n",
       "      <td>0.916357</td>\n",
       "      <td>North End</td>\n",
       "    </tr>\n",
       "    <tr>\n",
       "      <th>16</th>\n",
       "      <td>0.506789</td>\n",
       "      <td>Roslindale</td>\n",
       "    </tr>\n",
       "    <tr>\n",
       "      <th>17</th>\n",
       "      <td>0.101851</td>\n",
       "      <td>Roxbury</td>\n",
       "    </tr>\n",
       "    <tr>\n",
       "      <th>18</th>\n",
       "      <td>0.855694</td>\n",
       "      <td>South Boston Waterfront</td>\n",
       "    </tr>\n",
       "    <tr>\n",
       "      <th>19</th>\n",
       "      <td>0.782514</td>\n",
       "      <td>South Boston</td>\n",
       "    </tr>\n",
       "    <tr>\n",
       "      <th>20</th>\n",
       "      <td>0.541132</td>\n",
       "      <td>South End</td>\n",
       "    </tr>\n",
       "    <tr>\n",
       "      <th>21</th>\n",
       "      <td>0.636179</td>\n",
       "      <td>West End</td>\n",
       "    </tr>\n",
       "    <tr>\n",
       "      <th>22</th>\n",
       "      <td>0.732534</td>\n",
       "      <td>West Roxbury</td>\n",
       "    </tr>\n",
       "  </tbody>\n",
       "</table>\n",
       "</div>"
      ],
      "text/plain": [
       "     Percent             Neighborhood\n",
       "0   0.574041                  Allston\n",
       "1   0.787871                 Back Bay\n",
       "2   0.868004              Beacon Hill\n",
       "3   0.697751                 Brighton\n",
       "4   0.757832              Charlestown\n",
       "5   0.221639               Dorchester\n",
       "6   0.579102                 Downtown\n",
       "7   0.371556              East Boston\n",
       "8   0.648916                   Fenway\n",
       "9   0.308411           Harbor Islands\n",
       "10  0.282452                Hyde Park\n",
       "11  0.536310            Jamaica Plain\n",
       "12  0.695536    Longwood Medical Area\n",
       "13  0.063733                 Mattapan\n",
       "14  0.473628            Mission Hill \n",
       "15  0.916357                North End\n",
       "16  0.506789               Roslindale\n",
       "17  0.101851                  Roxbury\n",
       "18  0.855694  South Boston Waterfront\n",
       "19  0.782514             South Boston\n",
       "20  0.541132                South End\n",
       "21  0.636179                 West End\n",
       "22  0.732534             West Roxbury"
      ]
     },
     "execution_count": 38,
     "metadata": {},
     "output_type": "execute_result"
    }
   ],
   "source": [
    "race"
   ]
  },
  {
   "cell_type": "markdown",
   "metadata": {},
   "source": [
    "Next, I am going to save the median duration hours by neighborhood into a new dataframe, `neighborhood_hours`."
   ]
  },
  {
   "cell_type": "code",
   "execution_count": 39,
   "metadata": {},
   "outputs": [
    {
     "data": {
      "text/html": [
       "<div>\n",
       "<style scoped>\n",
       "    .dataframe tbody tr th:only-of-type {\n",
       "        vertical-align: middle;\n",
       "    }\n",
       "\n",
       "    .dataframe tbody tr th {\n",
       "        vertical-align: top;\n",
       "    }\n",
       "\n",
       "    .dataframe thead th {\n",
       "        text-align: right;\n",
       "    }\n",
       "</style>\n",
       "<table border=\"1\" class=\"dataframe\">\n",
       "  <thead>\n",
       "    <tr style=\"text-align: right;\">\n",
       "      <th></th>\n",
       "      <th>neighborhood</th>\n",
       "      <th>duration_hours</th>\n",
       "    </tr>\n",
       "  </thead>\n",
       "  <tbody>\n",
       "    <tr>\n",
       "      <th>13</th>\n",
       "      <td>Greater Mattapan</td>\n",
       "      <td>51.237778</td>\n",
       "    </tr>\n",
       "    <tr>\n",
       "      <th>16</th>\n",
       "      <td>Mattapan</td>\n",
       "      <td>48.368611</td>\n",
       "    </tr>\n",
       "    <tr>\n",
       "      <th>0</th>\n",
       "      <td></td>\n",
       "      <td>47.445278</td>\n",
       "    </tr>\n",
       "    <tr>\n",
       "      <th>23</th>\n",
       "      <td>West Roxbury</td>\n",
       "      <td>47.330556</td>\n",
       "    </tr>\n",
       "    <tr>\n",
       "      <th>9</th>\n",
       "      <td>Dorchester</td>\n",
       "      <td>40.460556</td>\n",
       "    </tr>\n",
       "  </tbody>\n",
       "</table>\n",
       "</div>"
      ],
      "text/plain": [
       "        neighborhood  duration_hours\n",
       "13  Greater Mattapan       51.237778\n",
       "16          Mattapan       48.368611\n",
       "0                          47.445278\n",
       "23      West Roxbury       47.330556\n",
       "9         Dorchester       40.460556"
      ]
     },
     "execution_count": 39,
     "metadata": {},
     "output_type": "execute_result"
    }
   ],
   "source": [
    "neighborhood_hours = median_by_group(bos311_closed, \"neighborhood\", \"duration_hours\")\n",
    "neighborhood_hours.head()"
   ]
  },
  {
   "cell_type": "markdown",
   "metadata": {},
   "source": [
    "Then, I can merge the two dataframes, one containing the percentage of whites and the other containing median resolution duration, by neighborhood name. I will subset the merged dataframes by those that have percent of population figures (the ticket data set has more neighborhood names than the demographic data so those neighborhoods are missing population data in the merged set)."
   ]
  },
  {
   "cell_type": "code",
   "execution_count": 40,
   "metadata": {},
   "outputs": [
    {
     "data": {
      "text/html": [
       "<div>\n",
       "<style scoped>\n",
       "    .dataframe tbody tr th:only-of-type {\n",
       "        vertical-align: middle;\n",
       "    }\n",
       "\n",
       "    .dataframe tbody tr th {\n",
       "        vertical-align: top;\n",
       "    }\n",
       "\n",
       "    .dataframe thead th {\n",
       "        text-align: right;\n",
       "    }\n",
       "</style>\n",
       "<table border=\"1\" class=\"dataframe\">\n",
       "  <thead>\n",
       "    <tr style=\"text-align: right;\">\n",
       "      <th></th>\n",
       "      <th>neighborhood</th>\n",
       "      <th>duration_hours</th>\n",
       "      <th>Percent</th>\n",
       "      <th>Neighborhood</th>\n",
       "    </tr>\n",
       "  </thead>\n",
       "  <tbody>\n",
       "    <tr>\n",
       "      <th>1</th>\n",
       "      <td>Mattapan</td>\n",
       "      <td>48.368611</td>\n",
       "      <td>0.063733</td>\n",
       "      <td>Mattapan</td>\n",
       "    </tr>\n",
       "    <tr>\n",
       "      <th>3</th>\n",
       "      <td>West Roxbury</td>\n",
       "      <td>47.330556</td>\n",
       "      <td>0.732534</td>\n",
       "      <td>West Roxbury</td>\n",
       "    </tr>\n",
       "    <tr>\n",
       "      <th>4</th>\n",
       "      <td>Dorchester</td>\n",
       "      <td>40.460556</td>\n",
       "      <td>0.221639</td>\n",
       "      <td>Dorchester</td>\n",
       "    </tr>\n",
       "    <tr>\n",
       "      <th>5</th>\n",
       "      <td>Allston</td>\n",
       "      <td>40.186944</td>\n",
       "      <td>0.574041</td>\n",
       "      <td>Allston</td>\n",
       "    </tr>\n",
       "    <tr>\n",
       "      <th>7</th>\n",
       "      <td>Roslindale</td>\n",
       "      <td>35.733611</td>\n",
       "      <td>0.506789</td>\n",
       "      <td>Roslindale</td>\n",
       "    </tr>\n",
       "    <tr>\n",
       "      <th>8</th>\n",
       "      <td>Hyde Park</td>\n",
       "      <td>34.718611</td>\n",
       "      <td>0.282452</td>\n",
       "      <td>Hyde Park</td>\n",
       "    </tr>\n",
       "    <tr>\n",
       "      <th>9</th>\n",
       "      <td>Jamaica Plain</td>\n",
       "      <td>29.332500</td>\n",
       "      <td>0.536310</td>\n",
       "      <td>Jamaica Plain</td>\n",
       "    </tr>\n",
       "    <tr>\n",
       "      <th>10</th>\n",
       "      <td>Charlestown</td>\n",
       "      <td>25.895278</td>\n",
       "      <td>0.757832</td>\n",
       "      <td>Charlestown</td>\n",
       "    </tr>\n",
       "    <tr>\n",
       "      <th>11</th>\n",
       "      <td>Brighton</td>\n",
       "      <td>25.880278</td>\n",
       "      <td>0.697751</td>\n",
       "      <td>Brighton</td>\n",
       "    </tr>\n",
       "    <tr>\n",
       "      <th>13</th>\n",
       "      <td>East Boston</td>\n",
       "      <td>24.759861</td>\n",
       "      <td>0.371556</td>\n",
       "      <td>East Boston</td>\n",
       "    </tr>\n",
       "    <tr>\n",
       "      <th>14</th>\n",
       "      <td>Roxbury</td>\n",
       "      <td>24.662500</td>\n",
       "      <td>0.101851</td>\n",
       "      <td>Roxbury</td>\n",
       "    </tr>\n",
       "    <tr>\n",
       "      <th>18</th>\n",
       "      <td>Back Bay</td>\n",
       "      <td>20.485972</td>\n",
       "      <td>0.787871</td>\n",
       "      <td>Back Bay</td>\n",
       "    </tr>\n",
       "    <tr>\n",
       "      <th>19</th>\n",
       "      <td>South Boston</td>\n",
       "      <td>19.677778</td>\n",
       "      <td>0.782514</td>\n",
       "      <td>South Boston</td>\n",
       "    </tr>\n",
       "    <tr>\n",
       "      <th>21</th>\n",
       "      <td>South End</td>\n",
       "      <td>17.658472</td>\n",
       "      <td>0.541132</td>\n",
       "      <td>South End</td>\n",
       "    </tr>\n",
       "    <tr>\n",
       "      <th>23</th>\n",
       "      <td>Beacon Hill</td>\n",
       "      <td>15.592778</td>\n",
       "      <td>0.868004</td>\n",
       "      <td>Beacon Hill</td>\n",
       "    </tr>\n",
       "  </tbody>\n",
       "</table>\n",
       "</div>"
      ],
      "text/plain": [
       "     neighborhood  duration_hours   Percent   Neighborhood\n",
       "1        Mattapan       48.368611  0.063733       Mattapan\n",
       "3    West Roxbury       47.330556  0.732534   West Roxbury\n",
       "4      Dorchester       40.460556  0.221639     Dorchester\n",
       "5         Allston       40.186944  0.574041        Allston\n",
       "7      Roslindale       35.733611  0.506789     Roslindale\n",
       "8       Hyde Park       34.718611  0.282452      Hyde Park\n",
       "9   Jamaica Plain       29.332500  0.536310  Jamaica Plain\n",
       "10    Charlestown       25.895278  0.757832    Charlestown\n",
       "11       Brighton       25.880278  0.697751       Brighton\n",
       "13    East Boston       24.759861  0.371556    East Boston\n",
       "14        Roxbury       24.662500  0.101851        Roxbury\n",
       "18       Back Bay       20.485972  0.787871       Back Bay\n",
       "19   South Boston       19.677778  0.782514   South Boston\n",
       "21      South End       17.658472  0.541132      South End\n",
       "23    Beacon Hill       15.592778  0.868004    Beacon Hill"
      ]
     },
     "execution_count": 40,
     "metadata": {},
     "output_type": "execute_result"
    }
   ],
   "source": [
    "combined = pd.merge(neighborhood_hours, race, how='left', left_on='neighborhood', right_on='Neighborhood')\n",
    "combined_final = combined.loc[combined['Percent'] > 0]\n",
    "combined_final"
   ]
  },
  {
   "cell_type": "markdown",
   "metadata": {},
   "source": [
    "### Are Race and Resolution Duration Correlated?\n",
    "We can answer this question by fitting a linear regression model on our data, calculating the regression line for how the percentage of whites in a neighborhood's population is correlated to the resolution duration. The results show a negative correlation: as the percentage of whites increases in a neighborhood, the resolution duration goes down. The results are not strongly significant. The r-squared value is only 0.213, meaning that only 21% of the change we observe in resolution duration can be explained by the percentage of whites in the neighborhood. The p-value, well reasonable at 0.084, is greater than the normally used p-value of 0.05. We also receive a Python warning because our sample size (i.e. number of neighborhoods) is small.\n",
    "\n",
    "The results, while not statistically strong, remain sobering."
   ]
  },
  {
   "cell_type": "code",
   "execution_count": 41,
   "metadata": {},
   "outputs": [
    {
     "name": "stdout",
     "output_type": "stream",
     "text": [
      "Intercept    39.781424\n",
      "Percent     -18.652809\n",
      "dtype: float64\n"
     ]
    },
    {
     "name": "stderr",
     "output_type": "stream",
     "text": [
      "/anaconda3/lib/python3.6/site-packages/scipy/stats/stats.py:1394: UserWarning: kurtosistest only valid for n>=20 ... continuing anyway, n=15\n",
      "  \"anyway, n=%i\" % int(n))\n"
     ]
    },
    {
     "data": {
      "text/html": [
       "<table class=\"simpletable\">\n",
       "<caption>OLS Regression Results</caption>\n",
       "<tr>\n",
       "  <th>Dep. Variable:</th>     <td>duration_hours</td>  <th>  R-squared:         </th> <td>   0.213</td>\n",
       "</tr>\n",
       "<tr>\n",
       "  <th>Model:</th>                   <td>OLS</td>       <th>  Adj. R-squared:    </th> <td>   0.152</td>\n",
       "</tr>\n",
       "<tr>\n",
       "  <th>Method:</th>             <td>Least Squares</td>  <th>  F-statistic:       </th> <td>   3.511</td>\n",
       "</tr>\n",
       "<tr>\n",
       "  <th>Date:</th>             <td>Fri, 17 May 2019</td> <th>  Prob (F-statistic):</th>  <td>0.0836</td> \n",
       "</tr>\n",
       "<tr>\n",
       "  <th>Time:</th>                 <td>20:07:34</td>     <th>  Log-Likelihood:    </th> <td> -54.291</td>\n",
       "</tr>\n",
       "<tr>\n",
       "  <th>No. Observations:</th>      <td>    15</td>      <th>  AIC:               </th> <td>   112.6</td>\n",
       "</tr>\n",
       "<tr>\n",
       "  <th>Df Residuals:</th>          <td>    13</td>      <th>  BIC:               </th> <td>   114.0</td>\n",
       "</tr>\n",
       "<tr>\n",
       "  <th>Df Model:</th>              <td>     1</td>      <th>                     </th>     <td> </td>   \n",
       "</tr>\n",
       "<tr>\n",
       "  <th>Covariance Type:</th>      <td>nonrobust</td>    <th>                     </th>     <td> </td>   \n",
       "</tr>\n",
       "</table>\n",
       "<table class=\"simpletable\">\n",
       "<tr>\n",
       "      <td></td>         <th>coef</th>     <th>std err</th>      <th>t</th>      <th>P>|t|</th>  <th>[0.025</th>    <th>0.975]</th>  \n",
       "</tr>\n",
       "<tr>\n",
       "  <th>Intercept</th> <td>   39.7814</td> <td>    5.766</td> <td>    6.900</td> <td> 0.000</td> <td>   27.325</td> <td>   52.237</td>\n",
       "</tr>\n",
       "<tr>\n",
       "  <th>Percent</th>   <td>  -18.6528</td> <td>    9.954</td> <td>   -1.874</td> <td> 0.084</td> <td>  -40.157</td> <td>    2.852</td>\n",
       "</tr>\n",
       "</table>\n",
       "<table class=\"simpletable\">\n",
       "<tr>\n",
       "  <th>Omnibus:</th>       <td> 1.809</td> <th>  Durbin-Watson:     </th> <td>   0.583</td>\n",
       "</tr>\n",
       "<tr>\n",
       "  <th>Prob(Omnibus):</th> <td> 0.405</td> <th>  Jarque-Bera (JB):  </th> <td>   0.944</td>\n",
       "</tr>\n",
       "<tr>\n",
       "  <th>Skew:</th>          <td> 0.613</td> <th>  Prob(JB):          </th> <td>   0.624</td>\n",
       "</tr>\n",
       "<tr>\n",
       "  <th>Kurtosis:</th>      <td> 2.904</td> <th>  Cond. No.          </th> <td>    5.11</td>\n",
       "</tr>\n",
       "</table><br/><br/>Warnings:<br/>[1] Standard Errors assume that the covariance matrix of the errors is correctly specified."
      ],
      "text/plain": [
       "<class 'statsmodels.iolib.summary.Summary'>\n",
       "\"\"\"\n",
       "                            OLS Regression Results                            \n",
       "==============================================================================\n",
       "Dep. Variable:         duration_hours   R-squared:                       0.213\n",
       "Model:                            OLS   Adj. R-squared:                  0.152\n",
       "Method:                 Least Squares   F-statistic:                     3.511\n",
       "Date:                Fri, 17 May 2019   Prob (F-statistic):             0.0836\n",
       "Time:                        20:07:34   Log-Likelihood:                -54.291\n",
       "No. Observations:                  15   AIC:                             112.6\n",
       "Df Residuals:                      13   BIC:                             114.0\n",
       "Df Model:                           1                                         \n",
       "Covariance Type:            nonrobust                                         \n",
       "==============================================================================\n",
       "                 coef    std err          t      P>|t|      [0.025      0.975]\n",
       "------------------------------------------------------------------------------\n",
       "Intercept     39.7814      5.766      6.900      0.000      27.325      52.237\n",
       "Percent      -18.6528      9.954     -1.874      0.084     -40.157       2.852\n",
       "==============================================================================\n",
       "Omnibus:                        1.809   Durbin-Watson:                   0.583\n",
       "Prob(Omnibus):                  0.405   Jarque-Bera (JB):                0.944\n",
       "Skew:                           0.613   Prob(JB):                        0.624\n",
       "Kurtosis:                       2.904   Cond. No.                         5.11\n",
       "==============================================================================\n",
       "\n",
       "Warnings:\n",
       "[1] Standard Errors assume that the covariance matrix of the errors is correctly specified.\n",
       "\"\"\""
      ]
     },
     "execution_count": 41,
     "metadata": {},
     "output_type": "execute_result"
    }
   ],
   "source": [
    "results = smf.ols('duration_hours ~ Percent', data = combined_final).fit()\n",
    "print(results.params)\n",
    "results.summary()"
   ]
  },
  {
   "cell_type": "code",
   "execution_count": 42,
   "metadata": {},
   "outputs": [
    {
     "data": {
      "text/plain": [
       "Text(0,0.5,'Resolution Duration (Hours)')"
      ]
     },
     "execution_count": 42,
     "metadata": {},
     "output_type": "execute_result"
    },
    {
     "data": {
      "image/png": "[encoded data removed]",
      "text/plain": [
       "<Figure size 720x576 with 1 Axes>"
      ]
     },
     "metadata": {},
     "output_type": "display_data"
    }
   ],
   "source": [
    "plt.figure(figsize=(10,8))\n",
    "plt.scatter(combined_final.Percent, combined_final.duration_hours, color=\"grey\")\n",
    "plt.plot(combined_final.Percent, results.fittedvalues, color=\"#B22222\")\n",
    "plt.title(\"Is Race and Resolution Time Correlated?\", fontsize=18)\n",
    "plt.xlabel('Percent of Population that is White', fontsize=14)\n",
    "plt.ylabel('Resolution Duration (Hours)', fontsize=14)"
   ]
  },
  {
   "cell_type": "markdown",
   "metadata": {},
   "source": [
    "### Other Factors?\n",
    "Could other demographic factors play a role in determining resolution duration? Income or education level are two possibilities, but income is not part of the demographic dataset and education level is not available for 2010. Below, I run the same linear regression as above but on the % of the population in a neighborhood who are renters. The thinking here is that renters are perceived to be a transient population and may not garner a strong institutional response from the City. However, I primarily do this calculation to provide a point of comparison to race.\n",
    "\n",
    "The findings are even less strong than race. The r-square value is .08 and the p-value is not significant."
   ]
  },
  {
   "cell_type": "code",
   "execution_count": 43,
   "metadata": {},
   "outputs": [
    {
     "name": "stdout",
     "output_type": "stream",
     "text": [
      "Intercept    43.626817\n",
      "Percent     -21.775760\n",
      "dtype: float64\n"
     ]
    },
    {
     "name": "stderr",
     "output_type": "stream",
     "text": [
      "/anaconda3/lib/python3.6/site-packages/scipy/stats/stats.py:1394: UserWarning: kurtosistest only valid for n>=20 ... continuing anyway, n=15\n",
      "  \"anyway, n=%i\" % int(n))\n"
     ]
    },
    {
     "data": {
      "text/html": [
       "<table class=\"simpletable\">\n",
       "<caption>OLS Regression Results</caption>\n",
       "<tr>\n",
       "  <th>Dep. Variable:</th>     <td>duration_hours</td>  <th>  R-squared:         </th> <td>   0.086</td>\n",
       "</tr>\n",
       "<tr>\n",
       "  <th>Model:</th>                   <td>OLS</td>       <th>  Adj. R-squared:    </th> <td>   0.015</td>\n",
       "</tr>\n",
       "<tr>\n",
       "  <th>Method:</th>             <td>Least Squares</td>  <th>  F-statistic:       </th> <td>   1.217</td>\n",
       "</tr>\n",
       "<tr>\n",
       "  <th>Date:</th>             <td>Fri, 17 May 2019</td> <th>  Prob (F-statistic):</th>  <td> 0.290</td> \n",
       "</tr>\n",
       "<tr>\n",
       "  <th>Time:</th>                 <td>20:07:50</td>     <th>  Log-Likelihood:    </th> <td> -55.413</td>\n",
       "</tr>\n",
       "<tr>\n",
       "  <th>No. Observations:</th>      <td>    15</td>      <th>  AIC:               </th> <td>   114.8</td>\n",
       "</tr>\n",
       "<tr>\n",
       "  <th>Df Residuals:</th>          <td>    13</td>      <th>  BIC:               </th> <td>   116.2</td>\n",
       "</tr>\n",
       "<tr>\n",
       "  <th>Df Model:</th>              <td>     1</td>      <th>                     </th>     <td> </td>   \n",
       "</tr>\n",
       "<tr>\n",
       "  <th>Covariance Type:</th>      <td>nonrobust</td>    <th>                     </th>     <td> </td>   \n",
       "</tr>\n",
       "</table>\n",
       "<table class=\"simpletable\">\n",
       "<tr>\n",
       "      <td></td>         <th>coef</th>     <th>std err</th>      <th>t</th>      <th>P>|t|</th>  <th>[0.025</th>    <th>0.975]</th>  \n",
       "</tr>\n",
       "<tr>\n",
       "  <th>Intercept</th> <td>   43.6268</td> <td>   12.598</td> <td>    3.463</td> <td> 0.004</td> <td>   16.411</td> <td>   70.842</td>\n",
       "</tr>\n",
       "<tr>\n",
       "  <th>Percent</th>   <td>  -21.7758</td> <td>   19.736</td> <td>   -1.103</td> <td> 0.290</td> <td>  -64.412</td> <td>   20.860</td>\n",
       "</tr>\n",
       "</table>\n",
       "<table class=\"simpletable\">\n",
       "<tr>\n",
       "  <th>Omnibus:</th>       <td> 1.334</td> <th>  Durbin-Watson:     </th> <td>   0.252</td>\n",
       "</tr>\n",
       "<tr>\n",
       "  <th>Prob(Omnibus):</th> <td> 0.513</td> <th>  Jarque-Bera (JB):  </th> <td>   1.058</td>\n",
       "</tr>\n",
       "<tr>\n",
       "  <th>Skew:</th>          <td> 0.455</td> <th>  Prob(JB):          </th> <td>   0.589</td>\n",
       "</tr>\n",
       "<tr>\n",
       "  <th>Kurtosis:</th>      <td> 2.069</td> <th>  Cond. No.          </th> <td>    10.2</td>\n",
       "</tr>\n",
       "</table><br/><br/>Warnings:<br/>[1] Standard Errors assume that the covariance matrix of the errors is correctly specified."
      ],
      "text/plain": [
       "<class 'statsmodels.iolib.summary.Summary'>\n",
       "\"\"\"\n",
       "                            OLS Regression Results                            \n",
       "==============================================================================\n",
       "Dep. Variable:         duration_hours   R-squared:                       0.086\n",
       "Model:                            OLS   Adj. R-squared:                  0.015\n",
       "Method:                 Least Squares   F-statistic:                     1.217\n",
       "Date:                Fri, 17 May 2019   Prob (F-statistic):              0.290\n",
       "Time:                        20:07:50   Log-Likelihood:                -55.413\n",
       "No. Observations:                  15   AIC:                             114.8\n",
       "Df Residuals:                      13   BIC:                             116.2\n",
       "Df Model:                           1                                         \n",
       "Covariance Type:            nonrobust                                         \n",
       "==============================================================================\n",
       "                 coef    std err          t      P>|t|      [0.025      0.975]\n",
       "------------------------------------------------------------------------------\n",
       "Intercept     43.6268     12.598      3.463      0.004      16.411      70.842\n",
       "Percent      -21.7758     19.736     -1.103      0.290     -64.412      20.860\n",
       "==============================================================================\n",
       "Omnibus:                        1.334   Durbin-Watson:                   0.252\n",
       "Prob(Omnibus):                  0.513   Jarque-Bera (JB):                1.058\n",
       "Skew:                           0.455   Prob(JB):                        0.589\n",
       "Kurtosis:                       2.069   Cond. No.                         10.2\n",
       "==============================================================================\n",
       "\n",
       "Warnings:\n",
       "[1] Standard Errors assume that the covariance matrix of the errors is correctly specified.\n",
       "\"\"\""
      ]
     },
     "execution_count": 43,
     "metadata": {},
     "output_type": "execute_result"
    }
   ],
   "source": [
    "def get_worksheet_data2(sheet_name):\n",
    "    mydata = pd.read_excel(data_path2,\n",
    "                          sheet_name=sheet_name,\n",
    "                           index_col=0)\n",
    "    return mydata.at['Renter-occupied', 'Unnamed: 14']\n",
    "\n",
    "percentages_renters = pd.Series(mylist).apply(get_worksheet_data2)\n",
    "\n",
    "renters = pd.DataFrame(mylist, percentages_renters).reset_index()\n",
    "renters.columns = ['Percent', 'Neighborhood']\n",
    "\n",
    "combined2 = pd.merge(neighborhood_hours, renters, how='left', left_on='neighborhood', right_on='Neighborhood')\n",
    "combined_final2 = combined2.loc[combined2['Percent'] > 0]\n",
    "\n",
    "results2 = smf.ols('duration_hours ~ Percent', data = combined_final2).fit()\n",
    "print(results2.params)\n",
    "results2.summary()"
   ]
  },
  {
   "cell_type": "markdown",
   "metadata": {},
   "source": [
    "## Counts of Service Request Ticket\n",
    "I have spent a lot of time in the sections above analyzing the overall duration needed to resolve a closed ticket. Another way we can view these service requests is by the overall number of service requests made. We can see, for example, that Dorchester has the largest number of service requests and Chestnut Hill has the fewest."
   ]
  },
  {
   "cell_type": "code",
   "execution_count": 44,
   "metadata": {},
   "outputs": [
    {
     "data": {
      "text/html": [
       "<div>\n",
       "<style scoped>\n",
       "    .dataframe tbody tr th:only-of-type {\n",
       "        vertical-align: middle;\n",
       "    }\n",
       "\n",
       "    .dataframe tbody tr th {\n",
       "        vertical-align: top;\n",
       "    }\n",
       "\n",
       "    .dataframe thead th {\n",
       "        text-align: right;\n",
       "    }\n",
       "</style>\n",
       "<table border=\"1\" class=\"dataframe\">\n",
       "  <thead>\n",
       "    <tr style=\"text-align: right;\">\n",
       "      <th></th>\n",
       "      <th>neighborhood</th>\n",
       "      <th>request_count</th>\n",
       "    </tr>\n",
       "  </thead>\n",
       "  <tbody>\n",
       "    <tr>\n",
       "      <th>9</th>\n",
       "      <td>Dorchester</td>\n",
       "      <td>219269</td>\n",
       "    </tr>\n",
       "    <tr>\n",
       "      <th>19</th>\n",
       "      <td>Roxbury</td>\n",
       "      <td>134780</td>\n",
       "    </tr>\n",
       "    <tr>\n",
       "      <th>2</th>\n",
       "      <td>Allston / Brighton</td>\n",
       "      <td>107589</td>\n",
       "    </tr>\n",
       "    <tr>\n",
       "      <th>21</th>\n",
       "      <td>South Boston / South Boston Waterfront</td>\n",
       "      <td>100817</td>\n",
       "    </tr>\n",
       "    <tr>\n",
       "      <th>15</th>\n",
       "      <td>Jamaica Plain</td>\n",
       "      <td>100400</td>\n",
       "    </tr>\n",
       "    <tr>\n",
       "      <th>10</th>\n",
       "      <td>Downtown / Financial District</td>\n",
       "      <td>90791</td>\n",
       "    </tr>\n",
       "    <tr>\n",
       "      <th>11</th>\n",
       "      <td>East Boston</td>\n",
       "      <td>82591</td>\n",
       "    </tr>\n",
       "    <tr>\n",
       "      <th>14</th>\n",
       "      <td>Hyde Park</td>\n",
       "      <td>70794</td>\n",
       "    </tr>\n",
       "    <tr>\n",
       "      <th>22</th>\n",
       "      <td>South End</td>\n",
       "      <td>70651</td>\n",
       "    </tr>\n",
       "    <tr>\n",
       "      <th>23</th>\n",
       "      <td>West Roxbury</td>\n",
       "      <td>70527</td>\n",
       "    </tr>\n",
       "    <tr>\n",
       "      <th>3</th>\n",
       "      <td>Back Bay</td>\n",
       "      <td>68945</td>\n",
       "    </tr>\n",
       "    <tr>\n",
       "      <th>13</th>\n",
       "      <td>Greater Mattapan</td>\n",
       "      <td>68443</td>\n",
       "    </tr>\n",
       "    <tr>\n",
       "      <th>18</th>\n",
       "      <td>Roslindale</td>\n",
       "      <td>62677</td>\n",
       "    </tr>\n",
       "    <tr>\n",
       "      <th>0</th>\n",
       "      <td></td>\n",
       "      <td>48953</td>\n",
       "    </tr>\n",
       "    <tr>\n",
       "      <th>7</th>\n",
       "      <td>Charlestown</td>\n",
       "      <td>46391</td>\n",
       "    </tr>\n",
       "    <tr>\n",
       "      <th>4</th>\n",
       "      <td>Beacon Hill</td>\n",
       "      <td>39102</td>\n",
       "    </tr>\n",
       "    <tr>\n",
       "      <th>5</th>\n",
       "      <td>Boston</td>\n",
       "      <td>37873</td>\n",
       "    </tr>\n",
       "    <tr>\n",
       "      <th>12</th>\n",
       "      <td>Fenway / Kenmore / Audubon Circle / Longwood</td>\n",
       "      <td>34058</td>\n",
       "    </tr>\n",
       "    <tr>\n",
       "      <th>17</th>\n",
       "      <td>Mission Hill</td>\n",
       "      <td>27202</td>\n",
       "    </tr>\n",
       "    <tr>\n",
       "      <th>20</th>\n",
       "      <td>South Boston</td>\n",
       "      <td>8939</td>\n",
       "    </tr>\n",
       "    <tr>\n",
       "      <th>6</th>\n",
       "      <td>Brighton</td>\n",
       "      <td>5390</td>\n",
       "    </tr>\n",
       "    <tr>\n",
       "      <th>1</th>\n",
       "      <td>Allston</td>\n",
       "      <td>2251</td>\n",
       "    </tr>\n",
       "    <tr>\n",
       "      <th>16</th>\n",
       "      <td>Mattapan</td>\n",
       "      <td>1980</td>\n",
       "    </tr>\n",
       "    <tr>\n",
       "      <th>8</th>\n",
       "      <td>Chestnut Hill</td>\n",
       "      <td>66</td>\n",
       "    </tr>\n",
       "  </tbody>\n",
       "</table>\n",
       "</div>"
      ],
      "text/plain": [
       "                                    neighborhood  request_count\n",
       "9                                     Dorchester         219269\n",
       "19                                       Roxbury         134780\n",
       "2                             Allston / Brighton         107589\n",
       "21        South Boston / South Boston Waterfront         100817\n",
       "15                                 Jamaica Plain         100400\n",
       "10                 Downtown / Financial District          90791\n",
       "11                                   East Boston          82591\n",
       "14                                     Hyde Park          70794\n",
       "22                                     South End          70651\n",
       "23                                  West Roxbury          70527\n",
       "3                                       Back Bay          68945\n",
       "13                              Greater Mattapan          68443\n",
       "18                                    Roslindale          62677\n",
       "0                                                         48953\n",
       "7                                    Charlestown          46391\n",
       "4                                    Beacon Hill          39102\n",
       "5                                         Boston          37873\n",
       "12  Fenway / Kenmore / Audubon Circle / Longwood          34058\n",
       "17                                  Mission Hill          27202\n",
       "20                                  South Boston           8939\n",
       "6                                       Brighton           5390\n",
       "1                                        Allston           2251\n",
       "16                                      Mattapan           1980\n",
       "8                                  Chestnut Hill             66"
      ]
     },
     "execution_count": 44,
     "metadata": {},
     "output_type": "execute_result"
    }
   ],
   "source": [
    "tickets_all = pd.DataFrame(size_by_group(bos311, 'neighborhood', 'case_enquiry_id'))\n",
    "tickets_all = tickets_all.reset_index()\n",
    "tickets_all.columns = ['neighborhood', 'request_count']\n",
    "tickets_all.sort_values(['request_count'],ascending=False)"
   ]
  },
  {
   "cell_type": "markdown",
   "metadata": {},
   "source": [
    "### Tickets Over Time\n",
    "The overall count of tickets is interesting, but not immediatley useful. We can, however, look at counts of tickets over time to try and identify useful trends. In order to do this, I will add a column to hold the calendar year for when each ticket was opened."
   ]
  },
  {
   "cell_type": "code",
   "execution_count": 45,
   "metadata": {},
   "outputs": [
    {
     "data": {
      "text/html": [
       "<div>\n",
       "<style scoped>\n",
       "    .dataframe tbody tr th:only-of-type {\n",
       "        vertical-align: middle;\n",
       "    }\n",
       "\n",
       "    .dataframe tbody tr th {\n",
       "        vertical-align: top;\n",
       "    }\n",
       "\n",
       "    .dataframe thead th {\n",
       "        text-align: right;\n",
       "    }\n",
       "</style>\n",
       "<table border=\"1\" class=\"dataframe\">\n",
       "  <thead>\n",
       "    <tr style=\"text-align: right;\">\n",
       "      <th></th>\n",
       "      <th>case_enquiry_id</th>\n",
       "      <th>open_dt</th>\n",
       "      <th>target_dt</th>\n",
       "      <th>closed_dt</th>\n",
       "      <th>ontime</th>\n",
       "      <th>case_status</th>\n",
       "      <th>closure_reason</th>\n",
       "      <th>case_title</th>\n",
       "      <th>subject</th>\n",
       "      <th>reason</th>\n",
       "      <th>...</th>\n",
       "      <th>ward</th>\n",
       "      <th>precinct</th>\n",
       "      <th>location_street_name</th>\n",
       "      <th>location_zipcode</th>\n",
       "      <th>latitude</th>\n",
       "      <th>longitude</th>\n",
       "      <th>source</th>\n",
       "      <th>duration</th>\n",
       "      <th>duration_hours</th>\n",
       "      <th>open_dt_year</th>\n",
       "    </tr>\n",
       "  </thead>\n",
       "  <tbody>\n",
       "    <tr>\n",
       "      <th>0</th>\n",
       "      <td>101000295613</td>\n",
       "      <td>2011-07-01 01:32:33</td>\n",
       "      <td>2011-07-15 01:32:32</td>\n",
       "      <td>2011-07-01 05:06:58</td>\n",
       "      <td>ONTIME</td>\n",
       "      <td>Closed</td>\n",
       "      <td>Case Closed Case Resolved replaced 100 amp fus...</td>\n",
       "      <td>Street Light Outages</td>\n",
       "      <td>Public Works Department</td>\n",
       "      <td>Street Lights</td>\n",
       "      <td>...</td>\n",
       "      <td>Ward 17</td>\n",
       "      <td>1714</td>\n",
       "      <td>INTERSECTION Groveland St &amp; River St</td>\n",
       "      <td>NaN</td>\n",
       "      <td>42.2715</td>\n",
       "      <td>-71.0772</td>\n",
       "      <td>Employee Generated</td>\n",
       "      <td>0 days 03:34:25</td>\n",
       "      <td>3.573611</td>\n",
       "      <td>July-2011</td>\n",
       "    </tr>\n",
       "    <tr>\n",
       "      <th>1</th>\n",
       "      <td>101000295614</td>\n",
       "      <td>2011-07-01 02:18:31</td>\n",
       "      <td>2011-07-05 02:18:31</td>\n",
       "      <td>2011-07-01 06:12:43</td>\n",
       "      <td>ONTIME</td>\n",
       "      <td>Closed</td>\n",
       "      <td>Case Closed Case Scheduled Items have been sch...</td>\n",
       "      <td>Schedule a Bulk Item Pickup</td>\n",
       "      <td>Public Works Department</td>\n",
       "      <td>Sanitation</td>\n",
       "      <td>...</td>\n",
       "      <td>Ward 20</td>\n",
       "      <td>2008</td>\n",
       "      <td>39 Lorraine St</td>\n",
       "      <td>02131</td>\n",
       "      <td>42.2839</td>\n",
       "      <td>-71.1447</td>\n",
       "      <td>Self Service</td>\n",
       "      <td>0 days 03:54:12</td>\n",
       "      <td>3.903333</td>\n",
       "      <td>July-2011</td>\n",
       "    </tr>\n",
       "    <tr>\n",
       "      <th>2</th>\n",
       "      <td>101000295620</td>\n",
       "      <td>2011-07-01 06:24:38</td>\n",
       "      <td>2011-07-15 06:24:38</td>\n",
       "      <td>2011-08-23 10:33:03</td>\n",
       "      <td>OVERDUE</td>\n",
       "      <td>Closed</td>\n",
       "      <td>Case Closed Case Resolved Job Completed.</td>\n",
       "      <td>Street Light Outages</td>\n",
       "      <td>Public Works Department</td>\n",
       "      <td>Street Lights</td>\n",
       "      <td>...</td>\n",
       "      <td>Ward 11</td>\n",
       "      <td>1103</td>\n",
       "      <td>INTERSECTION Bragdon St &amp; Washington St</td>\n",
       "      <td>NaN</td>\n",
       "      <td>42.3173</td>\n",
       "      <td>-71.0968</td>\n",
       "      <td>Constituent Call</td>\n",
       "      <td>53 days 04:08:25</td>\n",
       "      <td>1276.140278</td>\n",
       "      <td>July-2011</td>\n",
       "    </tr>\n",
       "    <tr>\n",
       "      <th>3</th>\n",
       "      <td>101000295624</td>\n",
       "      <td>2011-07-01 06:50:25</td>\n",
       "      <td>NaT</td>\n",
       "      <td>2011-07-01 06:50:29</td>\n",
       "      <td>ONTIME</td>\n",
       "      <td>Closed</td>\n",
       "      <td>Case Closed Internal Case</td>\n",
       "      <td>Highway Maintenance</td>\n",
       "      <td>Public Works Department</td>\n",
       "      <td>Highway Maintenance</td>\n",
       "      <td>...</td>\n",
       "      <td>Ward 13</td>\n",
       "      <td>1309</td>\n",
       "      <td>1053 Dorchester Ave</td>\n",
       "      <td>02125</td>\n",
       "      <td>42.3594</td>\n",
       "      <td>-71.0587</td>\n",
       "      <td>Employee Generated</td>\n",
       "      <td>0 days 00:00:04</td>\n",
       "      <td>0.001111</td>\n",
       "      <td>July-2011</td>\n",
       "    </tr>\n",
       "    <tr>\n",
       "      <th>4</th>\n",
       "      <td>101000295625</td>\n",
       "      <td>2011-07-01 06:55:10</td>\n",
       "      <td>2011-07-05 06:55:10</td>\n",
       "      <td>2011-07-05 09:42:04</td>\n",
       "      <td>OVERDUE</td>\n",
       "      <td>Closed</td>\n",
       "      <td>Case Closed Case Resolved  Delivered on 7/5.  ...</td>\n",
       "      <td>Sticker Request</td>\n",
       "      <td>Public Works Department</td>\n",
       "      <td>Recycling</td>\n",
       "      <td>...</td>\n",
       "      <td>Ward 7</td>\n",
       "      <td>0701</td>\n",
       "      <td>392 K St</td>\n",
       "      <td>02127</td>\n",
       "      <td>42.3305</td>\n",
       "      <td>-71.0371</td>\n",
       "      <td>Self Service</td>\n",
       "      <td>4 days 02:46:54</td>\n",
       "      <td>98.781667</td>\n",
       "      <td>July-2011</td>\n",
       "    </tr>\n",
       "  </tbody>\n",
       "</table>\n",
       "<p>5 rows × 32 columns</p>\n",
       "</div>"
      ],
      "text/plain": [
       "   case_enquiry_id             open_dt           target_dt  \\\n",
       "0     101000295613 2011-07-01 01:32:33 2011-07-15 01:32:32   \n",
       "1     101000295614 2011-07-01 02:18:31 2011-07-05 02:18:31   \n",
       "2     101000295620 2011-07-01 06:24:38 2011-07-15 06:24:38   \n",
       "3     101000295624 2011-07-01 06:50:25                 NaT   \n",
       "4     101000295625 2011-07-01 06:55:10 2011-07-05 06:55:10   \n",
       "\n",
       "            closed_dt   ontime case_status  \\\n",
       "0 2011-07-01 05:06:58   ONTIME      Closed   \n",
       "1 2011-07-01 06:12:43   ONTIME      Closed   \n",
       "2 2011-08-23 10:33:03  OVERDUE      Closed   \n",
       "3 2011-07-01 06:50:29   ONTIME      Closed   \n",
       "4 2011-07-05 09:42:04  OVERDUE      Closed   \n",
       "\n",
       "                                      closure_reason  \\\n",
       "0  Case Closed Case Resolved replaced 100 amp fus...   \n",
       "1  Case Closed Case Scheduled Items have been sch...   \n",
       "2          Case Closed Case Resolved Job Completed.    \n",
       "3                         Case Closed Internal Case    \n",
       "4  Case Closed Case Resolved  Delivered on 7/5.  ...   \n",
       "\n",
       "                    case_title                  subject               reason  \\\n",
       "0         Street Light Outages  Public Works Department        Street Lights   \n",
       "1  Schedule a Bulk Item Pickup  Public Works Department           Sanitation   \n",
       "2         Street Light Outages  Public Works Department        Street Lights   \n",
       "3          Highway Maintenance  Public Works Department  Highway Maintenance   \n",
       "4              Sticker Request  Public Works Department            Recycling   \n",
       "\n",
       "      ...          ward precinct                     location_street_name  \\\n",
       "0     ...       Ward 17     1714     INTERSECTION Groveland St & River St   \n",
       "1     ...       Ward 20     2008                           39 Lorraine St   \n",
       "2     ...       Ward 11     1103  INTERSECTION Bragdon St & Washington St   \n",
       "3     ...       Ward 13     1309                      1053 Dorchester Ave   \n",
       "4     ...        Ward 7     0701                                 392 K St   \n",
       "\n",
       "  location_zipcode latitude longitude              source         duration  \\\n",
       "0              NaN  42.2715  -71.0772  Employee Generated  0 days 03:34:25   \n",
       "1            02131  42.2839  -71.1447        Self Service  0 days 03:54:12   \n",
       "2              NaN  42.3173  -71.0968    Constituent Call 53 days 04:08:25   \n",
       "3            02125  42.3594  -71.0587  Employee Generated  0 days 00:00:04   \n",
       "4            02127  42.3305  -71.0371        Self Service  4 days 02:46:54   \n",
       "\n",
       "  duration_hours open_dt_year  \n",
       "0       3.573611    July-2011  \n",
       "1       3.903333    July-2011  \n",
       "2    1276.140278    July-2011  \n",
       "3       0.001111    July-2011  \n",
       "4      98.781667    July-2011  \n",
       "\n",
       "[5 rows x 32 columns]"
      ]
     },
     "execution_count": 45,
     "metadata": {},
     "output_type": "execute_result"
    }
   ],
   "source": [
    "# Add year to data\n",
    "bos311['open_dt_year'] = bos311['open_dt'].apply(lambda x: x.strftime('%B-%Y')) \n",
    "bos311.head()"
   ]
  },
  {
   "cell_type": "markdown",
   "metadata": {},
   "source": [
    "Using the `size_by_group` function, I can calculate the number of service requests by year. I then reset the index, change the column names, and sort the data by the date for easy plotting later. I also print the datatype for each variable to confirm that we have data in the correct format."
   ]
  },
  {
   "cell_type": "code",
   "execution_count": 46,
   "metadata": {},
   "outputs": [
    {
     "data": {
      "text/html": [
       "<div>\n",
       "<style scoped>\n",
       "    .dataframe tbody tr th:only-of-type {\n",
       "        vertical-align: middle;\n",
       "    }\n",
       "\n",
       "    .dataframe tbody tr th {\n",
       "        vertical-align: top;\n",
       "    }\n",
       "\n",
       "    .dataframe thead th {\n",
       "        text-align: right;\n",
       "    }\n",
       "</style>\n",
       "<table border=\"1\" class=\"dataframe\">\n",
       "  <thead>\n",
       "    <tr style=\"text-align: right;\">\n",
       "      <th></th>\n",
       "      <th>open_dt_year</th>\n",
       "      <th>ticket_count</th>\n",
       "    </tr>\n",
       "  </thead>\n",
       "  <tbody>\n",
       "    <tr>\n",
       "      <th>40</th>\n",
       "      <td>2011-07-01</td>\n",
       "      <td>9854</td>\n",
       "    </tr>\n",
       "    <tr>\n",
       "      <th>8</th>\n",
       "      <td>2011-08-01</td>\n",
       "      <td>11547</td>\n",
       "    </tr>\n",
       "    <tr>\n",
       "      <th>87</th>\n",
       "      <td>2011-09-01</td>\n",
       "      <td>10427</td>\n",
       "    </tr>\n",
       "    <tr>\n",
       "      <th>79</th>\n",
       "      <td>2011-10-01</td>\n",
       "      <td>9999</td>\n",
       "    </tr>\n",
       "    <tr>\n",
       "      <th>71</th>\n",
       "      <td>2011-11-01</td>\n",
       "      <td>8087</td>\n",
       "    </tr>\n",
       "  </tbody>\n",
       "</table>\n",
       "</div>"
      ],
      "text/plain": [
       "   open_dt_year  ticket_count\n",
       "40   2011-07-01          9854\n",
       "8    2011-08-01         11547\n",
       "87   2011-09-01         10427\n",
       "79   2011-10-01          9999\n",
       "71   2011-11-01          8087"
      ]
     },
     "execution_count": 46,
     "metadata": {},
     "output_type": "execute_result"
    }
   ],
   "source": [
    "ticket_count = pd.DataFrame(size_by_group(bos311, 'open_dt_year', 'case_enquiry_id'))\n",
    "ticket_count = ticket_count.reset_index()\n",
    "ticket_count.columns = ['open_dt_year', 'ticket_count']\n",
    "ticket_count['open_dt_year'] = pd.to_datetime(ticket_count['open_dt_year'])\n",
    "ticket_count = ticket_count.sort_values(['open_dt_year'])\n",
    "ticket_count.head()"
   ]
  },
  {
   "cell_type": "code",
   "execution_count": 47,
   "metadata": {
    "scrolled": true
   },
   "outputs": [
    {
     "data": {
      "text/plain": [
       "open_dt_year    datetime64[ns]\n",
       "ticket_count             int64\n",
       "dtype: object"
      ]
     },
     "execution_count": 47,
     "metadata": {},
     "output_type": "execute_result"
    }
   ],
   "source": [
    "ticket_count.dtypes"
   ]
  },
  {
   "cell_type": "markdown",
   "metadata": {},
   "source": [
    "Since this dataset is updated daily, the current month (May 2019) is incomplete. I am going to drop May-2019 because the count of total tickets will be partial and will not be representative on the plot."
   ]
  },
  {
   "cell_type": "code",
   "execution_count": 48,
   "metadata": {},
   "outputs": [
    {
     "data": {
      "text/html": [
       "<div>\n",
       "<style scoped>\n",
       "    .dataframe tbody tr th:only-of-type {\n",
       "        vertical-align: middle;\n",
       "    }\n",
       "\n",
       "    .dataframe tbody tr th {\n",
       "        vertical-align: top;\n",
       "    }\n",
       "\n",
       "    .dataframe thead th {\n",
       "        text-align: right;\n",
       "    }\n",
       "</style>\n",
       "<table border=\"1\" class=\"dataframe\">\n",
       "  <thead>\n",
       "    <tr style=\"text-align: right;\">\n",
       "      <th></th>\n",
       "      <th>open_dt_year</th>\n",
       "      <th>ticket_count</th>\n",
       "    </tr>\n",
       "  </thead>\n",
       "  <tbody>\n",
       "    <tr>\n",
       "      <th>23</th>\n",
       "      <td>2018-12-01</td>\n",
       "      <td>16676</td>\n",
       "    </tr>\n",
       "    <tr>\n",
       "      <th>39</th>\n",
       "      <td>2019-01-01</td>\n",
       "      <td>19534</td>\n",
       "    </tr>\n",
       "    <tr>\n",
       "      <th>31</th>\n",
       "      <td>2019-02-01</td>\n",
       "      <td>17084</td>\n",
       "    </tr>\n",
       "    <tr>\n",
       "      <th>62</th>\n",
       "      <td>2019-03-01</td>\n",
       "      <td>24661</td>\n",
       "    </tr>\n",
       "    <tr>\n",
       "      <th>7</th>\n",
       "      <td>2019-04-01</td>\n",
       "      <td>20404</td>\n",
       "    </tr>\n",
       "  </tbody>\n",
       "</table>\n",
       "</div>"
      ],
      "text/plain": [
       "   open_dt_year  ticket_count\n",
       "23   2018-12-01         16676\n",
       "39   2019-01-01         19534\n",
       "31   2019-02-01         17084\n",
       "62   2019-03-01         24661\n",
       "7    2019-04-01         20404"
      ]
     },
     "execution_count": 48,
     "metadata": {},
     "output_type": "execute_result"
    }
   ],
   "source": [
    "ticket_count_notmay19 = ticket_count.loc[(ticket_count['open_dt_year'] >= '2011-07-01') & \n",
    "                                         (ticket_count['open_dt_year'] < '2019-05-01')]\n",
    "ticket_count_notmay19.tail()"
   ]
  },
  {
   "cell_type": "markdown",
   "metadata": {},
   "source": [
    "#### Plot the Results\n",
    "Now, we can plot the data. The chart below shows the count, by month, of the service requests opened since 2011. The overall trend is an increase of service requests. The reason behind this is not clear as it may just be an indication that more people are using the Bos:311 system and not an actual increase in the number of problems. "
   ]
  },
  {
   "cell_type": "code",
   "execution_count": 49,
   "metadata": {},
   "outputs": [
    {
     "data": {
      "image/png": "[encoded data removed]",
      "text/plain": [
       "<Figure size 720x504 with 1 Axes>"
      ]
     },
     "metadata": {},
     "output_type": "display_data"
    }
   ],
   "source": [
    "plt.figure(figsize=(10,7))\n",
    "plt.plot_date(x=ticket_count_notmay19['open_dt_year'],\n",
    "              y=ticket_count_notmay19['ticket_count'],\n",
    "             ls=\"-\",\n",
    "             color=\"#B22222\")\n",
    "plt.title(\"Count of Opened Service Requests by Month\", fontsize=18)\n",
    "plt.xlabel(\"Year and Month\", fontsize=14)\n",
    "plt.ylabel(\"Number of Service Requests)\", fontsize=14)\n",
    "plt.show()"
   ]
  },
  {
   "cell_type": "markdown",
   "metadata": {},
   "source": [
    "#### Snowpocalypse\n",
    "One question remains with this chart: why is there such a huge spike of service requests in early 2015? For those of us living in Boston at the time, we know of early 2015 as the year where Boston experienced inordinate amounts of snowfall. Can we see the affects of the snow in the service requests data? \n",
    "\n",
    "If we slice the data for just Feburary 2015, we can then group by the reason behind the tickets. We can observe the 'street cleaning' (e.g. includes snow removal) as the driver behind these service requests with over 22,000 tickets. Sanitation adds another 5200 tickets that month."
   ]
  },
  {
   "cell_type": "code",
   "execution_count": 50,
   "metadata": {},
   "outputs": [
    {
     "data": {
      "text/plain": [
       "reason\n",
       "Abandoned Bicycle                              2\n",
       "Administrative & General Requests            956\n",
       "Air Pollution Control                          1\n",
       "Alert Boston                                  58\n",
       "Animal Issues                                235\n",
       "Billing                                        1\n",
       "Bridge Maintenance                             1\n",
       "Building                                     448\n",
       "Call Inquiry                                 136\n",
       "Catchbasin                                    46\n",
       "Cemetery                                       5\n",
       "Code Enforcement                               6\n",
       "Disability                                    69\n",
       "Employee & General Comments                 1558\n",
       "Enforcement & Abandoned Vehicles             653\n",
       "Environmental Services                        64\n",
       "Fire Department                              450\n",
       "Fire Hydrant                                  31\n",
       "Generic Noise Disturbance                      4\n",
       "Graffiti                                      94\n",
       "Health                                        43\n",
       "Highway Maintenance                         2279\n",
       "Housing                                      997\n",
       "Investigations and Enforcement                 6\n",
       "MBTA                                         222\n",
       "Metrolist                                      3\n",
       "Neighborhood Services Issues                   1\n",
       "Noise Disturbance                              1\n",
       "Notification                                  96\n",
       "Office of The Parking Clerk                    5\n",
       "Operations                                    11\n",
       "Park Maintenance & Safety                    210\n",
       "Parking Complaints                             6\n",
       "Participatory Budgeting Idea Collection       11\n",
       "Pothole                                        5\n",
       "Programs                                     356\n",
       "Recycling                                    177\n",
       "Sanitation                                  5186\n",
       "Sidewalk Cover / Manhole                      38\n",
       "Signs & Signals                              551\n",
       "Street Cleaning                            22109\n",
       "Street Lights                                570\n",
       "Survey                                         1\n",
       "Traffic Management & Engineering              42\n",
       "Trees                                         36\n",
       "Water Issues                                   8\n",
       "Weights and Measures                           4\n",
       "dtype: int64"
      ]
     },
     "execution_count": 50,
     "metadata": {},
     "output_type": "execute_result"
    }
   ],
   "source": [
    "snow = bos311.loc[bos311['open_dt_year'] == \"February-2015\"]\n",
    "snow.groupby(by=['reason']).size()"
   ]
  },
  {
   "cell_type": "markdown",
   "metadata": {},
   "source": [
    "# Making Predictions\n",
    "One last type of analysis that we can conduct on this data is to try and predict a future outcome of a ticket. For example, can I develop a model that will predict whether or not a ticket will be resolved ontime? In order to work with many of the predictive analytics libraries in Python, we need to prep the data to be in the correct format (e.g. numeric, not strings). The next few code cells do just that. \n",
    "\n",
    "## Prepping the Data\n",
    "\n",
    "To begin, I need to create a subset of the data for tickets that have a `ontime` status of either 'ONTIME' or 'OVERDUE'. This variable will be our target variable. I also convert this target variable to 0 and 1s, where 0 = OVERDUE and 1 = ONTIME."
   ]
  },
  {
   "cell_type": "code",
   "execution_count": 51,
   "metadata": {},
   "outputs": [
    {
     "data": {
      "text/html": [
       "<div>\n",
       "<style scoped>\n",
       "    .dataframe tbody tr th:only-of-type {\n",
       "        vertical-align: middle;\n",
       "    }\n",
       "\n",
       "    .dataframe tbody tr th {\n",
       "        vertical-align: top;\n",
       "    }\n",
       "\n",
       "    .dataframe thead th {\n",
       "        text-align: right;\n",
       "    }\n",
       "</style>\n",
       "<table border=\"1\" class=\"dataframe\">\n",
       "  <thead>\n",
       "    <tr style=\"text-align: right;\">\n",
       "      <th></th>\n",
       "      <th>case_enquiry_id</th>\n",
       "      <th>open_dt</th>\n",
       "      <th>target_dt</th>\n",
       "      <th>closed_dt</th>\n",
       "      <th>ontime</th>\n",
       "      <th>case_status</th>\n",
       "      <th>closure_reason</th>\n",
       "      <th>case_title</th>\n",
       "      <th>subject</th>\n",
       "      <th>reason</th>\n",
       "      <th>...</th>\n",
       "      <th>precinct</th>\n",
       "      <th>location_street_name</th>\n",
       "      <th>location_zipcode</th>\n",
       "      <th>latitude</th>\n",
       "      <th>longitude</th>\n",
       "      <th>source</th>\n",
       "      <th>duration</th>\n",
       "      <th>duration_hours</th>\n",
       "      <th>open_dt_year</th>\n",
       "      <th>target</th>\n",
       "    </tr>\n",
       "  </thead>\n",
       "  <tbody>\n",
       "    <tr>\n",
       "      <th>0</th>\n",
       "      <td>101000295613</td>\n",
       "      <td>2011-07-01 01:32:33</td>\n",
       "      <td>2011-07-15 01:32:32</td>\n",
       "      <td>2011-07-01 05:06:58</td>\n",
       "      <td>ONTIME</td>\n",
       "      <td>Closed</td>\n",
       "      <td>Case Closed Case Resolved replaced 100 amp fus...</td>\n",
       "      <td>Street Light Outages</td>\n",
       "      <td>Public Works Department</td>\n",
       "      <td>Street Lights</td>\n",
       "      <td>...</td>\n",
       "      <td>1714</td>\n",
       "      <td>INTERSECTION Groveland St &amp; River St</td>\n",
       "      <td>NaN</td>\n",
       "      <td>42.2715</td>\n",
       "      <td>-71.0772</td>\n",
       "      <td>Employee Generated</td>\n",
       "      <td>0 days 03:34:25</td>\n",
       "      <td>3.573611</td>\n",
       "      <td>July-2011</td>\n",
       "      <td>1</td>\n",
       "    </tr>\n",
       "    <tr>\n",
       "      <th>1</th>\n",
       "      <td>101000295614</td>\n",
       "      <td>2011-07-01 02:18:31</td>\n",
       "      <td>2011-07-05 02:18:31</td>\n",
       "      <td>2011-07-01 06:12:43</td>\n",
       "      <td>ONTIME</td>\n",
       "      <td>Closed</td>\n",
       "      <td>Case Closed Case Scheduled Items have been sch...</td>\n",
       "      <td>Schedule a Bulk Item Pickup</td>\n",
       "      <td>Public Works Department</td>\n",
       "      <td>Sanitation</td>\n",
       "      <td>...</td>\n",
       "      <td>2008</td>\n",
       "      <td>39 Lorraine St</td>\n",
       "      <td>02131</td>\n",
       "      <td>42.2839</td>\n",
       "      <td>-71.1447</td>\n",
       "      <td>Self Service</td>\n",
       "      <td>0 days 03:54:12</td>\n",
       "      <td>3.903333</td>\n",
       "      <td>July-2011</td>\n",
       "      <td>1</td>\n",
       "    </tr>\n",
       "    <tr>\n",
       "      <th>2</th>\n",
       "      <td>101000295620</td>\n",
       "      <td>2011-07-01 06:24:38</td>\n",
       "      <td>2011-07-15 06:24:38</td>\n",
       "      <td>2011-08-23 10:33:03</td>\n",
       "      <td>OVERDUE</td>\n",
       "      <td>Closed</td>\n",
       "      <td>Case Closed Case Resolved Job Completed.</td>\n",
       "      <td>Street Light Outages</td>\n",
       "      <td>Public Works Department</td>\n",
       "      <td>Street Lights</td>\n",
       "      <td>...</td>\n",
       "      <td>1103</td>\n",
       "      <td>INTERSECTION Bragdon St &amp; Washington St</td>\n",
       "      <td>NaN</td>\n",
       "      <td>42.3173</td>\n",
       "      <td>-71.0968</td>\n",
       "      <td>Constituent Call</td>\n",
       "      <td>53 days 04:08:25</td>\n",
       "      <td>1276.140278</td>\n",
       "      <td>July-2011</td>\n",
       "      <td>0</td>\n",
       "    </tr>\n",
       "    <tr>\n",
       "      <th>3</th>\n",
       "      <td>101000295624</td>\n",
       "      <td>2011-07-01 06:50:25</td>\n",
       "      <td>NaT</td>\n",
       "      <td>2011-07-01 06:50:29</td>\n",
       "      <td>ONTIME</td>\n",
       "      <td>Closed</td>\n",
       "      <td>Case Closed Internal Case</td>\n",
       "      <td>Highway Maintenance</td>\n",
       "      <td>Public Works Department</td>\n",
       "      <td>Highway Maintenance</td>\n",
       "      <td>...</td>\n",
       "      <td>1309</td>\n",
       "      <td>1053 Dorchester Ave</td>\n",
       "      <td>02125</td>\n",
       "      <td>42.3594</td>\n",
       "      <td>-71.0587</td>\n",
       "      <td>Employee Generated</td>\n",
       "      <td>0 days 00:00:04</td>\n",
       "      <td>0.001111</td>\n",
       "      <td>July-2011</td>\n",
       "      <td>1</td>\n",
       "    </tr>\n",
       "    <tr>\n",
       "      <th>4</th>\n",
       "      <td>101000295625</td>\n",
       "      <td>2011-07-01 06:55:10</td>\n",
       "      <td>2011-07-05 06:55:10</td>\n",
       "      <td>2011-07-05 09:42:04</td>\n",
       "      <td>OVERDUE</td>\n",
       "      <td>Closed</td>\n",
       "      <td>Case Closed Case Resolved  Delivered on 7/5.  ...</td>\n",
       "      <td>Sticker Request</td>\n",
       "      <td>Public Works Department</td>\n",
       "      <td>Recycling</td>\n",
       "      <td>...</td>\n",
       "      <td>0701</td>\n",
       "      <td>392 K St</td>\n",
       "      <td>02127</td>\n",
       "      <td>42.3305</td>\n",
       "      <td>-71.0371</td>\n",
       "      <td>Self Service</td>\n",
       "      <td>4 days 02:46:54</td>\n",
       "      <td>98.781667</td>\n",
       "      <td>July-2011</td>\n",
       "      <td>0</td>\n",
       "    </tr>\n",
       "  </tbody>\n",
       "</table>\n",
       "<p>5 rows × 33 columns</p>\n",
       "</div>"
      ],
      "text/plain": [
       "   case_enquiry_id             open_dt           target_dt  \\\n",
       "0     101000295613 2011-07-01 01:32:33 2011-07-15 01:32:32   \n",
       "1     101000295614 2011-07-01 02:18:31 2011-07-05 02:18:31   \n",
       "2     101000295620 2011-07-01 06:24:38 2011-07-15 06:24:38   \n",
       "3     101000295624 2011-07-01 06:50:25                 NaT   \n",
       "4     101000295625 2011-07-01 06:55:10 2011-07-05 06:55:10   \n",
       "\n",
       "            closed_dt   ontime case_status  \\\n",
       "0 2011-07-01 05:06:58   ONTIME      Closed   \n",
       "1 2011-07-01 06:12:43   ONTIME      Closed   \n",
       "2 2011-08-23 10:33:03  OVERDUE      Closed   \n",
       "3 2011-07-01 06:50:29   ONTIME      Closed   \n",
       "4 2011-07-05 09:42:04  OVERDUE      Closed   \n",
       "\n",
       "                                      closure_reason  \\\n",
       "0  Case Closed Case Resolved replaced 100 amp fus...   \n",
       "1  Case Closed Case Scheduled Items have been sch...   \n",
       "2          Case Closed Case Resolved Job Completed.    \n",
       "3                         Case Closed Internal Case    \n",
       "4  Case Closed Case Resolved  Delivered on 7/5.  ...   \n",
       "\n",
       "                    case_title                  subject               reason  \\\n",
       "0         Street Light Outages  Public Works Department        Street Lights   \n",
       "1  Schedule a Bulk Item Pickup  Public Works Department           Sanitation   \n",
       "2         Street Light Outages  Public Works Department        Street Lights   \n",
       "3          Highway Maintenance  Public Works Department  Highway Maintenance   \n",
       "4              Sticker Request  Public Works Department            Recycling   \n",
       "\n",
       "   ...   precinct                     location_street_name location_zipcode  \\\n",
       "0  ...       1714     INTERSECTION Groveland St & River St              NaN   \n",
       "1  ...       2008                           39 Lorraine St            02131   \n",
       "2  ...       1103  INTERSECTION Bragdon St & Washington St              NaN   \n",
       "3  ...       1309                      1053 Dorchester Ave            02125   \n",
       "4  ...       0701                                 392 K St            02127   \n",
       "\n",
       "  latitude longitude              source         duration duration_hours  \\\n",
       "0  42.2715  -71.0772  Employee Generated  0 days 03:34:25       3.573611   \n",
       "1  42.2839  -71.1447        Self Service  0 days 03:54:12       3.903333   \n",
       "2  42.3173  -71.0968    Constituent Call 53 days 04:08:25    1276.140278   \n",
       "3  42.3594  -71.0587  Employee Generated  0 days 00:00:04       0.001111   \n",
       "4  42.3305  -71.0371        Self Service  4 days 02:46:54      98.781667   \n",
       "\n",
       "  open_dt_year target  \n",
       "0    July-2011      1  \n",
       "1    July-2011      1  \n",
       "2    July-2011      0  \n",
       "3    July-2011      1  \n",
       "4    July-2011      0  \n",
       "\n",
       "[5 rows x 33 columns]"
      ]
     },
     "execution_count": 51,
     "metadata": {},
     "output_type": "execute_result"
    }
   ],
   "source": [
    "bos311_binary = bos311.loc[(bos311['ontime'] == 'ONTIME') | (bos311['ontime'] == 'OVERDUE')].copy()\n",
    "bos311_binary['target'] = np.where(bos311_binary['ontime'].str.contains(\"ONTIME\"), 1, 0)\n",
    "bos311_binary.head()"
   ]
  },
  {
   "cell_type": "markdown",
   "metadata": {},
   "source": [
    "### Selecting Features\n",
    "Next, I am going to create a dataframe with just the target variables and the features that I think will be useful in the model. For example, I don't want the column `closed_dt` because it is too highly dependent with the `ontime` column. To begin, I will select these columns: `reason`, `subject`, `neighborhood`, and `source`. I will revisit this decision in a bit."
   ]
  },
  {
   "cell_type": "code",
   "execution_count": 52,
   "metadata": {
    "scrolled": true
   },
   "outputs": [
    {
     "data": {
      "text/html": [
       "<div>\n",
       "<style scoped>\n",
       "    .dataframe tbody tr th:only-of-type {\n",
       "        vertical-align: middle;\n",
       "    }\n",
       "\n",
       "    .dataframe tbody tr th {\n",
       "        vertical-align: top;\n",
       "    }\n",
       "\n",
       "    .dataframe thead th {\n",
       "        text-align: right;\n",
       "    }\n",
       "</style>\n",
       "<table border=\"1\" class=\"dataframe\">\n",
       "  <thead>\n",
       "    <tr style=\"text-align: right;\">\n",
       "      <th></th>\n",
       "      <th>target</th>\n",
       "      <th>reason</th>\n",
       "      <th>subject</th>\n",
       "      <th>neighborhood</th>\n",
       "      <th>source</th>\n",
       "    </tr>\n",
       "  </thead>\n",
       "  <tbody>\n",
       "    <tr>\n",
       "      <th>0</th>\n",
       "      <td>1</td>\n",
       "      <td>Street Lights</td>\n",
       "      <td>Public Works Department</td>\n",
       "      <td>Greater Mattapan</td>\n",
       "      <td>Employee Generated</td>\n",
       "    </tr>\n",
       "    <tr>\n",
       "      <th>1</th>\n",
       "      <td>1</td>\n",
       "      <td>Sanitation</td>\n",
       "      <td>Public Works Department</td>\n",
       "      <td>Roslindale</td>\n",
       "      <td>Self Service</td>\n",
       "    </tr>\n",
       "    <tr>\n",
       "      <th>2</th>\n",
       "      <td>0</td>\n",
       "      <td>Street Lights</td>\n",
       "      <td>Public Works Department</td>\n",
       "      <td>Roxbury</td>\n",
       "      <td>Constituent Call</td>\n",
       "    </tr>\n",
       "    <tr>\n",
       "      <th>3</th>\n",
       "      <td>1</td>\n",
       "      <td>Highway Maintenance</td>\n",
       "      <td>Public Works Department</td>\n",
       "      <td>Dorchester</td>\n",
       "      <td>Employee Generated</td>\n",
       "    </tr>\n",
       "    <tr>\n",
       "      <th>4</th>\n",
       "      <td>0</td>\n",
       "      <td>Recycling</td>\n",
       "      <td>Public Works Department</td>\n",
       "      <td>South Boston / South Boston Waterfront</td>\n",
       "      <td>Self Service</td>\n",
       "    </tr>\n",
       "  </tbody>\n",
       "</table>\n",
       "</div>"
      ],
      "text/plain": [
       "   target               reason                  subject  \\\n",
       "0       1        Street Lights  Public Works Department   \n",
       "1       1           Sanitation  Public Works Department   \n",
       "2       0        Street Lights  Public Works Department   \n",
       "3       1  Highway Maintenance  Public Works Department   \n",
       "4       0            Recycling  Public Works Department   \n",
       "\n",
       "                             neighborhood              source  \n",
       "0                        Greater Mattapan  Employee Generated  \n",
       "1                              Roslindale        Self Service  \n",
       "2                                 Roxbury    Constituent Call  \n",
       "3                              Dorchester  Employee Generated  \n",
       "4  South Boston / South Boston Waterfront        Self Service  "
      ]
     },
     "execution_count": 52,
     "metadata": {},
     "output_type": "execute_result"
    }
   ],
   "source": [
    "# create my data\n",
    "\n",
    "bos311_pred = pd.DataFrame(bos311_binary[['target', 'reason', 'subject', 'neighborhood', 'source']])\n",
    "bos311_pred.head()"
   ]
  },
  {
   "cell_type": "markdown",
   "metadata": {},
   "source": [
    "Next, I need to isolate the target variable into its own dataframe, `y`. After that, I write the feature columns to the variable `X`."
   ]
  },
  {
   "cell_type": "code",
   "execution_count": 53,
   "metadata": {},
   "outputs": [
    {
     "data": {
      "text/plain": [
       "0    1\n",
       "1    1\n",
       "2    0\n",
       "3    1\n",
       "4    0\n",
       "Name: target, dtype: int64"
      ]
     },
     "execution_count": 53,
     "metadata": {},
     "output_type": "execute_result"
    }
   ],
   "source": [
    "# Create dataframe with just the target\n",
    "y = bos311_pred.target \n",
    "y.head()"
   ]
  },
  {
   "cell_type": "code",
   "execution_count": 54,
   "metadata": {},
   "outputs": [
    {
     "data": {
      "text/plain": [
       "reason          object\n",
       "subject         object\n",
       "neighborhood    object\n",
       "source          object\n",
       "dtype: object"
      ]
     },
     "execution_count": 54,
     "metadata": {},
     "output_type": "execute_result"
    }
   ],
   "source": [
    "# create features dataframe\n",
    "X = bos311_pred.drop(\"target\", axis=1)\n",
    "X.head()\n",
    "X.dtypes"
   ]
  },
  {
   "cell_type": "markdown",
   "metadata": {},
   "source": [
    "### Creating Dummy Variables for Categorical Data\n",
    "As I mentioned earlier, Python's SciKit Learn library expects variables to be numeric in order to use them for various machine learning models. My four features are all stored as objects. The data I have is categorical, but not ordinal. I do not want to convert the data to a simple, numeric list because it would artificially create mathematical meaning where there isn't any (i.e Beacon Hill isn't 2x as important as Allston). Instead, I will use pandas functionality to convert all the categorical features to dummy variables. This expands the number of columns significantly."
   ]
  },
  {
   "cell_type": "code",
   "execution_count": 55,
   "metadata": {},
   "outputs": [
    {
     "data": {
      "text/html": [
       "<div>\n",
       "<style scoped>\n",
       "    .dataframe tbody tr th:only-of-type {\n",
       "        vertical-align: middle;\n",
       "    }\n",
       "\n",
       "    .dataframe tbody tr th {\n",
       "        vertical-align: top;\n",
       "    }\n",
       "\n",
       "    .dataframe thead th {\n",
       "        text-align: right;\n",
       "    }\n",
       "</style>\n",
       "<table border=\"1\" class=\"dataframe\">\n",
       "  <thead>\n",
       "    <tr style=\"text-align: right;\">\n",
       "      <th></th>\n",
       "      <th>reason_Abandoned Bicycle</th>\n",
       "      <th>reason_Administration</th>\n",
       "      <th>reason_Administrative</th>\n",
       "      <th>reason_Administrative &amp; General Requests</th>\n",
       "      <th>reason_Air Pollution Control</th>\n",
       "      <th>reason_Alert Boston</th>\n",
       "      <th>reason_Animal Issues</th>\n",
       "      <th>reason_Billing</th>\n",
       "      <th>reason_Boston Bikes</th>\n",
       "      <th>reason_Bridge Maintenance</th>\n",
       "      <th>...</th>\n",
       "      <th>neighborhood_South Boston / South Boston Waterfront</th>\n",
       "      <th>neighborhood_South End</th>\n",
       "      <th>neighborhood_West Roxbury</th>\n",
       "      <th>source_Citizens Connect App</th>\n",
       "      <th>source_City Worker App</th>\n",
       "      <th>source_Constituent Call</th>\n",
       "      <th>source_Employee Generated</th>\n",
       "      <th>source_Maximo Integration</th>\n",
       "      <th>source_Self Service</th>\n",
       "      <th>source_Twitter</th>\n",
       "    </tr>\n",
       "  </thead>\n",
       "  <tbody>\n",
       "    <tr>\n",
       "      <th>0</th>\n",
       "      <td>0</td>\n",
       "      <td>0</td>\n",
       "      <td>0</td>\n",
       "      <td>0</td>\n",
       "      <td>0</td>\n",
       "      <td>0</td>\n",
       "      <td>0</td>\n",
       "      <td>0</td>\n",
       "      <td>0</td>\n",
       "      <td>0</td>\n",
       "      <td>...</td>\n",
       "      <td>0</td>\n",
       "      <td>0</td>\n",
       "      <td>0</td>\n",
       "      <td>0</td>\n",
       "      <td>0</td>\n",
       "      <td>0</td>\n",
       "      <td>1</td>\n",
       "      <td>0</td>\n",
       "      <td>0</td>\n",
       "      <td>0</td>\n",
       "    </tr>\n",
       "    <tr>\n",
       "      <th>1</th>\n",
       "      <td>0</td>\n",
       "      <td>0</td>\n",
       "      <td>0</td>\n",
       "      <td>0</td>\n",
       "      <td>0</td>\n",
       "      <td>0</td>\n",
       "      <td>0</td>\n",
       "      <td>0</td>\n",
       "      <td>0</td>\n",
       "      <td>0</td>\n",
       "      <td>...</td>\n",
       "      <td>0</td>\n",
       "      <td>0</td>\n",
       "      <td>0</td>\n",
       "      <td>0</td>\n",
       "      <td>0</td>\n",
       "      <td>0</td>\n",
       "      <td>0</td>\n",
       "      <td>0</td>\n",
       "      <td>1</td>\n",
       "      <td>0</td>\n",
       "    </tr>\n",
       "    <tr>\n",
       "      <th>2</th>\n",
       "      <td>0</td>\n",
       "      <td>0</td>\n",
       "      <td>0</td>\n",
       "      <td>0</td>\n",
       "      <td>0</td>\n",
       "      <td>0</td>\n",
       "      <td>0</td>\n",
       "      <td>0</td>\n",
       "      <td>0</td>\n",
       "      <td>0</td>\n",
       "      <td>...</td>\n",
       "      <td>0</td>\n",
       "      <td>0</td>\n",
       "      <td>0</td>\n",
       "      <td>0</td>\n",
       "      <td>0</td>\n",
       "      <td>1</td>\n",
       "      <td>0</td>\n",
       "      <td>0</td>\n",
       "      <td>0</td>\n",
       "      <td>0</td>\n",
       "    </tr>\n",
       "    <tr>\n",
       "      <th>3</th>\n",
       "      <td>0</td>\n",
       "      <td>0</td>\n",
       "      <td>0</td>\n",
       "      <td>0</td>\n",
       "      <td>0</td>\n",
       "      <td>0</td>\n",
       "      <td>0</td>\n",
       "      <td>0</td>\n",
       "      <td>0</td>\n",
       "      <td>0</td>\n",
       "      <td>...</td>\n",
       "      <td>0</td>\n",
       "      <td>0</td>\n",
       "      <td>0</td>\n",
       "      <td>0</td>\n",
       "      <td>0</td>\n",
       "      <td>0</td>\n",
       "      <td>1</td>\n",
       "      <td>0</td>\n",
       "      <td>0</td>\n",
       "      <td>0</td>\n",
       "    </tr>\n",
       "    <tr>\n",
       "      <th>4</th>\n",
       "      <td>0</td>\n",
       "      <td>0</td>\n",
       "      <td>0</td>\n",
       "      <td>0</td>\n",
       "      <td>0</td>\n",
       "      <td>0</td>\n",
       "      <td>0</td>\n",
       "      <td>0</td>\n",
       "      <td>0</td>\n",
       "      <td>0</td>\n",
       "      <td>...</td>\n",
       "      <td>1</td>\n",
       "      <td>0</td>\n",
       "      <td>0</td>\n",
       "      <td>0</td>\n",
       "      <td>0</td>\n",
       "      <td>0</td>\n",
       "      <td>0</td>\n",
       "      <td>0</td>\n",
       "      <td>1</td>\n",
       "      <td>0</td>\n",
       "    </tr>\n",
       "  </tbody>\n",
       "</table>\n",
       "<p>5 rows × 110 columns</p>\n",
       "</div>"
      ],
      "text/plain": [
       "   reason_Abandoned Bicycle  reason_Administration  reason_Administrative  \\\n",
       "0                         0                      0                      0   \n",
       "1                         0                      0                      0   \n",
       "2                         0                      0                      0   \n",
       "3                         0                      0                      0   \n",
       "4                         0                      0                      0   \n",
       "\n",
       "   reason_Administrative & General Requests  reason_Air Pollution Control  \\\n",
       "0                                         0                             0   \n",
       "1                                         0                             0   \n",
       "2                                         0                             0   \n",
       "3                                         0                             0   \n",
       "4                                         0                             0   \n",
       "\n",
       "   reason_Alert Boston  reason_Animal Issues  reason_Billing  \\\n",
       "0                    0                     0               0   \n",
       "1                    0                     0               0   \n",
       "2                    0                     0               0   \n",
       "3                    0                     0               0   \n",
       "4                    0                     0               0   \n",
       "\n",
       "   reason_Boston Bikes  reason_Bridge Maintenance       ...        \\\n",
       "0                    0                          0       ...         \n",
       "1                    0                          0       ...         \n",
       "2                    0                          0       ...         \n",
       "3                    0                          0       ...         \n",
       "4                    0                          0       ...         \n",
       "\n",
       "   neighborhood_South Boston / South Boston Waterfront  \\\n",
       "0                                                  0     \n",
       "1                                                  0     \n",
       "2                                                  0     \n",
       "3                                                  0     \n",
       "4                                                  1     \n",
       "\n",
       "   neighborhood_South End  neighborhood_West Roxbury  \\\n",
       "0                       0                          0   \n",
       "1                       0                          0   \n",
       "2                       0                          0   \n",
       "3                       0                          0   \n",
       "4                       0                          0   \n",
       "\n",
       "   source_Citizens Connect App  source_City Worker App  \\\n",
       "0                            0                       0   \n",
       "1                            0                       0   \n",
       "2                            0                       0   \n",
       "3                            0                       0   \n",
       "4                            0                       0   \n",
       "\n",
       "   source_Constituent Call  source_Employee Generated  \\\n",
       "0                        0                          1   \n",
       "1                        0                          0   \n",
       "2                        1                          0   \n",
       "3                        0                          1   \n",
       "4                        0                          0   \n",
       "\n",
       "   source_Maximo Integration  source_Self Service  source_Twitter  \n",
       "0                          0                    0               0  \n",
       "1                          0                    1               0  \n",
       "2                          0                    0               0  \n",
       "3                          0                    0               0  \n",
       "4                          0                    1               0  \n",
       "\n",
       "[5 rows x 110 columns]"
      ]
     },
     "execution_count": 55,
     "metadata": {},
     "output_type": "execute_result"
    }
   ],
   "source": [
    "# Convert categorial data into dummy variables\n",
    "features = pd.get_dummies(X[['reason', 'subject', 'neighborhood', 'source']])\n",
    "features.head()"
   ]
  },
  {
   "cell_type": "markdown",
   "metadata": {},
   "source": [
    "### Creating Train and Test Sets\n",
    "There is one last step we need to take in order to prepare the data: create the train and test sets. I do this using `train_test_split` function from SciKit Learn. I have selected to do a 70-30 split and to stratify the data. I am stratifying the data because the data is imbalanced towards `ontime` tickets. We will revisit this fact shortly."
   ]
  },
  {
   "cell_type": "code",
   "execution_count": 56,
   "metadata": {},
   "outputs": [],
   "source": [
    "# split into training and test setsb\n",
    "X_train, X_test, y_train, y_test = train_test_split(features, y, test_size=0.3, stratify=y, random_state=50)"
   ]
  },
  {
   "cell_type": "markdown",
   "metadata": {},
   "source": [
    "## Decision Tree\n",
    "For the first model I am starting with a basic decision tree. In the following cells I fit the model on the training data and then calculate the accuracy for both the training set and test set. The accuracy is decent at just under 82%."
   ]
  },
  {
   "cell_type": "code",
   "execution_count": 57,
   "metadata": {},
   "outputs": [],
   "source": [
    "# Create Decision Tree classifer object\n",
    "clf = DecisionTreeClassifier()\n",
    "\n",
    "# Train Decision Tree Classifer\n",
    "clf = clf.fit(X_train,y_train)\n",
    "\n",
    "#Predict the response for test dataset\n",
    "y_pred = clf.predict(X_test)"
   ]
  },
  {
   "cell_type": "code",
   "execution_count": 58,
   "metadata": {},
   "outputs": [
    {
     "name": "stdout",
     "output_type": "stream",
     "text": [
      "Accuracy: 0.8198737729111301\n"
     ]
    }
   ],
   "source": [
    "# training data accuracy\n",
    "\n",
    "y_pred_train = clf.predict(X_train)\n",
    "print(\"Accuracy:\",metrics.accuracy_score(y_train, y_pred_train))"
   ]
  },
  {
   "cell_type": "code",
   "execution_count": 59,
   "metadata": {},
   "outputs": [
    {
     "name": "stdout",
     "output_type": "stream",
     "text": [
      "Accuracy: 0.8191508256848145\n"
     ]
    }
   ],
   "source": [
    "# test data accuracy\n",
    "\n",
    "print(\"Accuracy:\",metrics.accuracy_score(y_test, y_pred))"
   ]
  },
  {
   "cell_type": "markdown",
   "metadata": {},
   "source": [
    "### Interpret Results\n",
    "With a deeper look, the results may be too good to be true. While an accuracy of 82% could be said to be good, it is not the case for our data. If we look at the ratio of `ontime` tickets to our overall set of tickets, it stands at 80%. Our decision tree added just under 2% accuracy compared to random selection."
   ]
  },
  {
   "cell_type": "code",
   "execution_count": 60,
   "metadata": {},
   "outputs": [
    {
     "data": {
      "text/html": [
       "<div>\n",
       "<style scoped>\n",
       "    .dataframe tbody tr th:only-of-type {\n",
       "        vertical-align: middle;\n",
       "    }\n",
       "\n",
       "    .dataframe tbody tr th {\n",
       "        vertical-align: top;\n",
       "    }\n",
       "\n",
       "    .dataframe thead th {\n",
       "        text-align: right;\n",
       "    }\n",
       "</style>\n",
       "<table border=\"1\" class=\"dataframe\">\n",
       "  <thead>\n",
       "    <tr style=\"text-align: right;\">\n",
       "      <th></th>\n",
       "      <th>target</th>\n",
       "      <th>count</th>\n",
       "    </tr>\n",
       "  </thead>\n",
       "  <tbody>\n",
       "    <tr>\n",
       "      <th>0</th>\n",
       "      <td>0</td>\n",
       "      <td>298337</td>\n",
       "    </tr>\n",
       "    <tr>\n",
       "      <th>1</th>\n",
       "      <td>1</td>\n",
       "      <td>1203040</td>\n",
       "    </tr>\n",
       "  </tbody>\n",
       "</table>\n",
       "</div>"
      ],
      "text/plain": [
       "   target    count\n",
       "0       0   298337\n",
       "1       1  1203040"
      ]
     },
     "execution_count": 60,
     "metadata": {},
     "output_type": "execute_result"
    }
   ],
   "source": [
    "ticket_ratio = size_by_group(bos311_pred, 'target', 'reason')\n",
    "ticket_ratio = ticket_ratio.reset_index()\n",
    "ticket_ratio.columns = [\"target\", \"count\"]\n",
    "ticket_ratio.head()"
   ]
  },
  {
   "cell_type": "code",
   "execution_count": 61,
   "metadata": {
    "scrolled": true
   },
   "outputs": [
    {
     "name": "stdout",
     "output_type": "stream",
     "text": [
      "The percentage of 'ontime' tickets in our data is 0.8012910814538919\n"
     ]
    }
   ],
   "source": [
    "print(\"The percentage of 'ontime' tickets in our data is {}\".format(ticket_ratio.at[1,'count'] / (ticket_ratio.at[0,'count'] + ticket_ratio.at[1,'count'])))"
   ]
  },
  {
   "cell_type": "markdown",
   "metadata": {},
   "source": [
    "### Missing Values\n",
    "Another possibility for why the accuracy is so close to randomness is because we might have missing values in the minority class. When the Decision Tree is calculated, these rows with missing values would be dropped. However, the number of NAs in our selected features is zero."
   ]
  },
  {
   "cell_type": "code",
   "execution_count": 62,
   "metadata": {},
   "outputs": [
    {
     "name": "stdout",
     "output_type": "stream",
     "text": [
      "0\n"
     ]
    }
   ],
   "source": [
    "# loop through columns to count the number of NAs\n",
    "end = len(X_train.columns)\n",
    "total = 0\n",
    "i=0\n",
    "while i < end:\n",
    "  total = total + X_train.iloc[:,i].isna().sum()\n",
    "  i += 1\n",
    "print(total)"
   ]
  },
  {
   "cell_type": "markdown",
   "metadata": {},
   "source": [
    "### Improving the Model\n",
    "Can we improve the model? One way to potentially get model improvements is by tuning the hyperparameters of tree depth and the number of features used in growing the tree. From our results of the Decision Tree, we can take the maximum `Tree_depth` and `n_features` and build a grid search around variations of these parameters.\n",
    "\n",
    "This approach and this code is a modified version of a workshop presented by Andreas Mueller at the Open Data Science Conference East 2019 held in Boston at the beginning of this month (Mueller, 2019). First, we find some reasonable parameters around which we can construct a grid search."
   ]
  },
  {
   "cell_type": "code",
   "execution_count": 63,
   "metadata": {},
   "outputs": [
    {
     "name": "stdout",
     "output_type": "stream",
     "text": [
      "Tree depth:  45\n",
      "n_features:  4\n"
     ]
    }
   ],
   "source": [
    "# Find a reasonable tree depth:\n",
    "tree = DecisionTreeClassifier().fit(X_train, y_train)\n",
    "print(\"Tree depth: \", tree.tree_.max_depth)\n",
    "print(\"n_features: \", X.shape[1])"
   ]
  },
  {
   "cell_type": "markdown",
   "metadata": {},
   "source": [
    "In the code below, I run a grid search with various combinations of `max_depth` and `max_features` using 5-fold cross validation. This is then used to grow Random Forests of 50 trees. After that, I print a table of the accuracy results and a heatmap of the results.  In the end, the results are very similar: accuracy of ~80% to ~82%."
   ]
  },
  {
   "cell_type": "code",
   "execution_count": 64,
   "metadata": {},
   "outputs": [
    {
     "name": "stdout",
     "output_type": "stream",
     "text": [
      "Index(['mean_fit_time', 'std_fit_time', 'mean_score_time', 'std_score_time',\n",
      "       'param_max_depth', 'param_max_features', 'params', 'split0_test_score',\n",
      "       'split1_test_score', 'split2_test_score', 'split3_test_score',\n",
      "       'split4_test_score', 'mean_test_score', 'std_test_score',\n",
      "       'rank_test_score', 'split0_train_score', 'split1_train_score',\n",
      "       'split2_train_score', 'split3_train_score', 'split4_train_score',\n",
      "       'mean_train_score', 'std_train_score'],\n",
      "      dtype='object')\n"
     ]
    },
    {
     "data": {
      "text/html": [
       "<div>\n",
       "<style scoped>\n",
       "    .dataframe tbody tr th:only-of-type {\n",
       "        vertical-align: middle;\n",
       "    }\n",
       "\n",
       "    .dataframe tbody tr th {\n",
       "        vertical-align: top;\n",
       "    }\n",
       "\n",
       "    .dataframe thead th {\n",
       "        text-align: right;\n",
       "    }\n",
       "</style>\n",
       "<table border=\"1\" class=\"dataframe\">\n",
       "  <thead>\n",
       "    <tr style=\"text-align: right;\">\n",
       "      <th>param_max_features</th>\n",
       "      <th>4</th>\n",
       "      <th>8</th>\n",
       "      <th>16</th>\n",
       "      <th>20</th>\n",
       "      <th>25</th>\n",
       "    </tr>\n",
       "    <tr>\n",
       "      <th>param_max_depth</th>\n",
       "      <th></th>\n",
       "      <th></th>\n",
       "      <th></th>\n",
       "      <th></th>\n",
       "      <th></th>\n",
       "    </tr>\n",
       "  </thead>\n",
       "  <tbody>\n",
       "    <tr>\n",
       "      <th>3</th>\n",
       "      <td>0.803629</td>\n",
       "      <td>0.803629</td>\n",
       "      <td>0.803629</td>\n",
       "      <td>0.814980</td>\n",
       "      <td>0.815266</td>\n",
       "    </tr>\n",
       "    <tr>\n",
       "      <th>5</th>\n",
       "      <td>0.803629</td>\n",
       "      <td>0.803629</td>\n",
       "      <td>0.815085</td>\n",
       "      <td>0.815285</td>\n",
       "      <td>0.815599</td>\n",
       "    </tr>\n",
       "    <tr>\n",
       "      <th>8</th>\n",
       "      <td>0.803629</td>\n",
       "      <td>0.810841</td>\n",
       "      <td>0.815656</td>\n",
       "      <td>0.815875</td>\n",
       "      <td>0.815884</td>\n",
       "    </tr>\n",
       "    <tr>\n",
       "      <th>10</th>\n",
       "      <td>0.804010</td>\n",
       "      <td>0.815266</td>\n",
       "      <td>0.815646</td>\n",
       "      <td>0.816255</td>\n",
       "      <td>0.816294</td>\n",
       "    </tr>\n",
       "    <tr>\n",
       "      <th>15</th>\n",
       "      <td>0.813525</td>\n",
       "      <td>0.816265</td>\n",
       "      <td>0.820052</td>\n",
       "      <td>0.820594</td>\n",
       "      <td>0.820147</td>\n",
       "    </tr>\n",
       "    <tr>\n",
       "      <th>20</th>\n",
       "      <td>0.815580</td>\n",
       "      <td>0.819348</td>\n",
       "      <td>0.820157</td>\n",
       "      <td>0.820518</td>\n",
       "      <td>0.820166</td>\n",
       "    </tr>\n",
       "    <tr>\n",
       "      <th>30</th>\n",
       "      <td>0.818701</td>\n",
       "      <td>0.819709</td>\n",
       "      <td>0.818958</td>\n",
       "      <td>0.818758</td>\n",
       "      <td>0.819119</td>\n",
       "    </tr>\n",
       "    <tr>\n",
       "      <th>40</th>\n",
       "      <td>0.819091</td>\n",
       "      <td>0.819110</td>\n",
       "      <td>0.818463</td>\n",
       "      <td>0.818577</td>\n",
       "      <td>0.818558</td>\n",
       "    </tr>\n",
       "    <tr>\n",
       "      <th>50</th>\n",
       "      <td>0.818863</td>\n",
       "      <td>0.818615</td>\n",
       "      <td>0.818472</td>\n",
       "      <td>0.818815</td>\n",
       "      <td>0.818615</td>\n",
       "    </tr>\n",
       "  </tbody>\n",
       "</table>\n",
       "</div>"
      ],
      "text/plain": [
       "param_max_features        4         8         16        20        25\n",
       "param_max_depth                                                     \n",
       "3                   0.803629  0.803629  0.803629  0.814980  0.815266\n",
       "5                   0.803629  0.803629  0.815085  0.815285  0.815599\n",
       "8                   0.803629  0.810841  0.815656  0.815875  0.815884\n",
       "10                  0.804010  0.815266  0.815646  0.816255  0.816294\n",
       "15                  0.813525  0.816265  0.820052  0.820594  0.820147\n",
       "20                  0.815580  0.819348  0.820157  0.820518  0.820166\n",
       "30                  0.818701  0.819709  0.818958  0.818758  0.819119\n",
       "40                  0.819091  0.819110  0.818463  0.818577  0.818558\n",
       "50                  0.818863  0.818615  0.818472  0.818815  0.818615"
      ]
     },
     "metadata": {},
     "output_type": "display_data"
    },
    {
     "data": {
      "text/plain": [
       "<matplotlib.colorbar.Colorbar at 0x1a14b52400>"
      ]
     },
     "execution_count": 64,
     "metadata": {},
     "output_type": "execute_result"
    },
    {
     "data": {
      "image/png": "[encoded data removed]",
      "text/plain": [
       "<Figure size 288x518.4 with 2 Axes>"
      ]
     },
     "metadata": {},
     "output_type": "display_data"
    }
   ],
   "source": [
    "param_grid = {'max_depth': [3, 5, 8, 10, 15, 20, 30, 40, 50],\n",
    "              'max_features':[4, 8, 16, 20, 25]}\n",
    "grid = GridSearchCV(RandomForestClassifier(n_estimators=50),\n",
    "                    param_grid=param_grid, cv=5, return_train_score=True)\n",
    "\n",
    "# Mueller recommends subsetting the data by a factor of 10 in order to speed up the process.\n",
    "# I follow his recommendation here\n",
    "\n",
    "grid.fit(X_train[::10], y_train[::10])\n",
    "\n",
    "res = pd.DataFrame(grid.cv_results_)\n",
    "print(res.keys())\n",
    "res_piv = pd.pivot_table(\n",
    "    res, values='mean_test_score', index='param_max_depth',\n",
    "    columns='param_max_features')\n",
    "\n",
    "display(res_piv)\n",
    "\n",
    "plt.matshow(res_piv.values)\n",
    "plt.xlabel(res_piv.columns.name)\n",
    "plt.xticks(range(res_piv.shape[1]), res_piv.columns)\n",
    "plt.ylabel(res_piv.index.name)\n",
    "plt.yticks(range(res_piv.shape[0]), res_piv.index);\n",
    "plt.colorbar()"
   ]
  },
  {
   "cell_type": "markdown",
   "metadata": {},
   "source": [
    "## Trying More Features\n",
    "Creating a predictive model from a decision tree gave us results 1-2% better than randomness. Accounting for NAs in the minority class did not help to improve our model. Nor did tuning the hyperparameters and growing a random forest of 50 trees with 5-fold cross validation. I will attempt one more approach to improve the performance of this model: increase the number of features. I am also using `OneHotEncoder` to create the dummy variables because it does not increase the number of columns in the data as does `get_dummies`."
   ]
  },
  {
   "cell_type": "code",
   "execution_count": 65,
   "metadata": {},
   "outputs": [
    {
     "data": {
      "text/html": [
       "<div>\n",
       "<style scoped>\n",
       "    .dataframe tbody tr th:only-of-type {\n",
       "        vertical-align: middle;\n",
       "    }\n",
       "\n",
       "    .dataframe tbody tr th {\n",
       "        vertical-align: top;\n",
       "    }\n",
       "\n",
       "    .dataframe thead th {\n",
       "        text-align: right;\n",
       "    }\n",
       "</style>\n",
       "<table border=\"1\" class=\"dataframe\">\n",
       "  <thead>\n",
       "    <tr style=\"text-align: right;\">\n",
       "      <th></th>\n",
       "      <th>target</th>\n",
       "      <th>reason</th>\n",
       "      <th>subject</th>\n",
       "      <th>neighborhood</th>\n",
       "      <th>source</th>\n",
       "      <th>precinct</th>\n",
       "      <th>location_zipcode</th>\n",
       "      <th>department</th>\n",
       "      <th>fire_district</th>\n",
       "      <th>pwd_district</th>\n",
       "      <th>police_district</th>\n",
       "      <th>city_council_district</th>\n",
       "      <th>type</th>\n",
       "      <th>queue</th>\n",
       "    </tr>\n",
       "  </thead>\n",
       "  <tbody>\n",
       "    <tr>\n",
       "      <th>0</th>\n",
       "      <td>1</td>\n",
       "      <td>Street Lights</td>\n",
       "      <td>Public Works Department</td>\n",
       "      <td>Greater Mattapan</td>\n",
       "      <td>Employee Generated</td>\n",
       "      <td>1714</td>\n",
       "      <td>NaN</td>\n",
       "      <td>PWDx</td>\n",
       "      <td>8</td>\n",
       "      <td>07</td>\n",
       "      <td>B3</td>\n",
       "      <td>3</td>\n",
       "      <td>Street Light Outages</td>\n",
       "      <td>PWDx_Street Light Outages</td>\n",
       "    </tr>\n",
       "    <tr>\n",
       "      <th>1</th>\n",
       "      <td>1</td>\n",
       "      <td>Sanitation</td>\n",
       "      <td>Public Works Department</td>\n",
       "      <td>Roslindale</td>\n",
       "      <td>Self Service</td>\n",
       "      <td>2008</td>\n",
       "      <td>02131</td>\n",
       "      <td>PWDx</td>\n",
       "      <td>12</td>\n",
       "      <td>06</td>\n",
       "      <td>E5</td>\n",
       "      <td>5</td>\n",
       "      <td>Schedule a Bulk Item Pickup</td>\n",
       "      <td>PWDx_Schedule a Bulk Item Pickup</td>\n",
       "    </tr>\n",
       "    <tr>\n",
       "      <th>2</th>\n",
       "      <td>0</td>\n",
       "      <td>Street Lights</td>\n",
       "      <td>Public Works Department</td>\n",
       "      <td>Roxbury</td>\n",
       "      <td>Constituent Call</td>\n",
       "      <td>1103</td>\n",
       "      <td>NaN</td>\n",
       "      <td>PWDx</td>\n",
       "      <td>9</td>\n",
       "      <td>10B</td>\n",
       "      <td>E13</td>\n",
       "      <td>7</td>\n",
       "      <td>Street Light Outages</td>\n",
       "      <td>PWDx_Street Light_Pending_Contractor (Internal)</td>\n",
       "    </tr>\n",
       "    <tr>\n",
       "      <th>3</th>\n",
       "      <td>1</td>\n",
       "      <td>Highway Maintenance</td>\n",
       "      <td>Public Works Department</td>\n",
       "      <td>Dorchester</td>\n",
       "      <td>Employee Generated</td>\n",
       "      <td>1309</td>\n",
       "      <td>02125</td>\n",
       "      <td>PWDx</td>\n",
       "      <td>7</td>\n",
       "      <td>03</td>\n",
       "      <td>C11</td>\n",
       "      <td>3</td>\n",
       "      <td>Highway Maintenance</td>\n",
       "      <td>PWDx_District 03: North Dorchester</td>\n",
       "    </tr>\n",
       "    <tr>\n",
       "      <th>4</th>\n",
       "      <td>0</td>\n",
       "      <td>Recycling</td>\n",
       "      <td>Public Works Department</td>\n",
       "      <td>South Boston / South Boston Waterfront</td>\n",
       "      <td>Self Service</td>\n",
       "      <td>0701</td>\n",
       "      <td>02127</td>\n",
       "      <td>PWDx</td>\n",
       "      <td>6</td>\n",
       "      <td>05</td>\n",
       "      <td>C6</td>\n",
       "      <td>2</td>\n",
       "      <td>Sticker Request</td>\n",
       "      <td>PWDx_Sticker Request</td>\n",
       "    </tr>\n",
       "  </tbody>\n",
       "</table>\n",
       "</div>"
      ],
      "text/plain": [
       "   target               reason                  subject  \\\n",
       "0       1        Street Lights  Public Works Department   \n",
       "1       1           Sanitation  Public Works Department   \n",
       "2       0        Street Lights  Public Works Department   \n",
       "3       1  Highway Maintenance  Public Works Department   \n",
       "4       0            Recycling  Public Works Department   \n",
       "\n",
       "                             neighborhood              source precinct  \\\n",
       "0                        Greater Mattapan  Employee Generated     1714   \n",
       "1                              Roslindale        Self Service     2008   \n",
       "2                                 Roxbury    Constituent Call     1103   \n",
       "3                              Dorchester  Employee Generated     1309   \n",
       "4  South Boston / South Boston Waterfront        Self Service     0701   \n",
       "\n",
       "  location_zipcode department fire_district pwd_district police_district  \\\n",
       "0              NaN       PWDx             8           07              B3   \n",
       "1            02131       PWDx            12           06              E5   \n",
       "2              NaN       PWDx             9          10B             E13   \n",
       "3            02125       PWDx             7           03             C11   \n",
       "4            02127       PWDx             6           05              C6   \n",
       "\n",
       "  city_council_district                         type  \\\n",
       "0                     3         Street Light Outages   \n",
       "1                     5  Schedule a Bulk Item Pickup   \n",
       "2                     7         Street Light Outages   \n",
       "3                     3          Highway Maintenance   \n",
       "4                     2              Sticker Request   \n",
       "\n",
       "                                             queue  \n",
       "0                        PWDx_Street Light Outages  \n",
       "1                 PWDx_Schedule a Bulk Item Pickup  \n",
       "2  PWDx_Street Light_Pending_Contractor (Internal)  \n",
       "3               PWDx_District 03: North Dorchester  \n",
       "4                             PWDx_Sticker Request  "
      ]
     },
     "execution_count": 65,
     "metadata": {},
     "output_type": "execute_result"
    }
   ],
   "source": [
    "# create my data\n",
    "\n",
    "bos311_pred_2 = pd.DataFrame(bos311_binary[['target', \n",
    "                                            'reason', \n",
    "                                            'subject', \n",
    "                                            'neighborhood', \n",
    "                                            'source', \n",
    "                                            'precinct', \n",
    "                                            'location_zipcode',\n",
    "                                            'department',\n",
    "                                            'fire_district',\n",
    "                                            'pwd_district',\n",
    "                                            'police_district',\n",
    "                                            'city_council_district',\n",
    "                                            'type',\n",
    "                                            'queue']])\n",
    "bos311_pred_2.head()"
   ]
  },
  {
   "cell_type": "markdown",
   "metadata": {},
   "source": [
    "To build the model, we need to first build a preprocessing pipeline. This pipeline will attempt to fill NAs with constant values and then convert categorical data into dummy values using `OneHotEncoder`. This data is then split into the train and test sets at a 80-20 ratio and a Logistic Regression is fit. The number of iterations is set high. (1000 opposed to the default of 100) to increase the likelihood of convergence. The accuracy is printed out at the end.\n",
    "\n",
    "The code and approach used below is modified from the SciKit Learn examples documentation (Morales, 2019)."
   ]
  },
  {
   "cell_type": "code",
   "execution_count": 66,
   "metadata": {},
   "outputs": [
    {
     "name": "stdout",
     "output_type": "stream",
     "text": [
      "model score: 0.868\n"
     ]
    }
   ],
   "source": [
    "# Create the preprocessing pipelines for categorical data.\n",
    "categorical_features = ['reason', \n",
    "                        'subject', \n",
    "                        'neighborhood',\n",
    "                        'source', \n",
    "                        'precinct',\n",
    "                        'location_zipcode',\n",
    "                        'department',\n",
    "                        'fire_district',\n",
    "                        'pwd_district',\n",
    "                        'police_district',\n",
    "                        'city_council_district',\n",
    "                        'type',\n",
    "                        'queue']\n",
    "\n",
    "categorical_transformer = Pipeline(steps=[\n",
    "    ('imputer', SimpleImputer(strategy='constant', fill_value='missing')),\n",
    "    ('onehot', OneHotEncoder(handle_unknown='ignore'))])\n",
    "\n",
    "preprocessor = ColumnTransformer(transformers=[('cat', categorical_transformer, categorical_features)])\n",
    "\n",
    "# Append classifier to preprocessing pipeline.\n",
    "# Now we have a full prediction pipeline.\n",
    "clf = Pipeline(steps=[('preprocessor', preprocessor),\n",
    "                      ('classifier', LogisticRegression(solver='lbfgs', max_iter=1000))])\n",
    "\n",
    "X2 = bos311_pred_2.drop('target', axis=1)\n",
    "y2 = bos311_pred_2['target']\n",
    "\n",
    "X2_train, X2_test, y2_train, y2_test = train_test_split(X2, y2, test_size=0.2)\n",
    "\n",
    "clf.fit(X2_train, y2_train)\n",
    "print(\"model score: %.3f\" % clf.score(X2_test, y2_test))"
   ]
  },
  {
   "cell_type": "markdown",
   "metadata": {},
   "source": [
    "These results are promising. By adding more features we gained 5% more accuracy over our initial Decision Tree and 7% over randomness."
   ]
  },
  {
   "cell_type": "markdown",
   "metadata": {},
   "source": [
    "# Conclusion\n",
    "In this analysis I have used data publicly available from the City of Boston to learn about trends in non-emergency service requests made to the City over the past 8 years. The purpose of this analysis was to give Boston residents like me a better understanding of the trends in 3-1-1 service requests and to better understand the factors impacting how long a ticket remains open.\n",
    "\n",
    "Through this analysis we have learned:\n",
    "* That the average ticket remains open for about 9 hours and more than 50% of all tickets are closed within a day (24 hours)\n",
    "* Dorchester had the greatest number of tickets\n",
    "* Neighborhoods such as Beacon Hill, Downtown, and the South End experience the quickest resolution time (median) while Mattapan, Allston, and Roxbury experienced the slowest resolution time, over 3x as long.\n",
    "\n",
    "We also learned that certain types of requests (e.g. civil rights requests) take much longer to resolve than request for public works. In the exploration of the data we can also identify key, external events that have driven the creation of certain kinds of tickets. For example, in the Winter of 2015 the City saw tickets for street cleaning and garbage pick-up spike as the city experienced records amount of snow.\n",
    "\n",
    "Finally, we were able to create a predictive model that determines whether or not a ticket will be closed on time with 87% accuracy."
   ]
  },
  {
   "cell_type": "markdown",
   "metadata": {},
   "source": [
    "# References\n",
    "\n",
    "City of Boston. (2019). _311 service requests_ [Dataset]. Retrieved from https://data.boston.gov/dataset/311-service-requests\n",
    "\n",
    "City of Boston. (2019). _Neighborhood demographics_ [Dataset]. Retrieved from https://data.boston.gov/dataset/neighborhood-demographics\n",
    "\n",
    "City of Boston. (2015). _BOS:311._ Retreived from https://www.cityofboston.gov/311/\n",
    "\n",
    "Morales, P. (2019). _Column transformer with mixed types._ Retrieved from https://scikit-learn.org/stable/auto_examples/compose/plot_column_transformer_mixed_types.html#sphx-glr-auto-examples-compose-plot-column-transformer-mixed-types-py\n",
    "\n",
    "Mueller, Andeas. (2019). _Advanced machine learning with scikit learn part 1/11_ [Github Repository]. Retrieved from https://github.com/amueller/ml-workshop-3-of-4\n",
    "\n",
    "Navlani, A. (2018, September 7). _Understanding logistic regression in Python._ Retrieved from https://www.datacamp.com/community/tutorials/understanding-logistic-regression-python\n",
    "\n",
    "Pathak, M. (2018, May 22). _Handling categorical data in Python._ Retrieved from https://www.datacamp.com/community/tutorials/categorical-data\n",
    "\n",
    "WBUR News. (2015, August 11). _Boston rolls out 311 system for reporting non-emergency issues._ Retrieved from https://www.wbur.org/news/2015/08/11/311-non-emergency-reporting\n"
   ]
  },
  {
   "cell_type": "code",
   "execution_count": 67,
   "metadata": {},
   "outputs": [
    {
     "data": {
      "text/plain": [
       "datetime.datetime(2019, 5, 17, 20, 28, 43, 29333)"
      ]
     },
     "execution_count": 67,
     "metadata": {},
     "output_type": "execute_result"
    }
   ],
   "source": [
    "end = datetime.now()\n",
    "end"
   ]
  },
  {
   "cell_type": "code",
   "execution_count": 68,
   "metadata": {},
   "outputs": [
    {
     "data": {
      "text/plain": [
       "datetime.timedelta(0, 1386, 735145)"
      ]
     },
     "execution_count": 68,
     "metadata": {},
     "output_type": "execute_result"
    }
   ],
   "source": [
    "end-start"
   ]
  }
 ],
 "metadata": {
  "kernelspec": {
   "display_name": "Python 3",
   "language": "python",
   "name": "python3"
  },
  "language_info": {
   "codemirror_mode": {
    "name": "ipython",
    "version": 3
   },
   "file_extension": ".py",
   "mimetype": "text/x-python",
   "name": "python",
   "nbconvert_exporter": "python",
   "pygments_lexer": "ipython3",
   "version": "3.6.5"
  }
 },
 "nbformat": 4,
 "nbformat_minor": 2
}
